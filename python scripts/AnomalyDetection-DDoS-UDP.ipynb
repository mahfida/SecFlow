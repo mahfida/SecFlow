{
 "cells": [
  {
   "cell_type": "code",
   "execution_count": 128,
   "metadata": {},
   "outputs": [],
   "source": [
    "'''Main'''\n",
    "import numpy as np\n",
    "import pandas as pd\n",
    "import os\n",
    "\n",
    "'''Data Viz'''\n",
    "import matplotlib.pyplot as plt\n",
    "import seaborn as sns\n",
    "color = sns.color_palette()\n",
    "import matplotlib as mpl\n",
    "\n",
    "%matplotlib inline\n",
    "\n",
    "'''Data Prep'''\n",
    "from sklearn import preprocessing as pp \n",
    "from sklearn.preprocessing import LabelEncoder, StandardScaler\n",
    "from scipy.stats import pearsonr \n",
    "from sklearn.model_selection import train_test_split\n",
    "from sklearn.model_selection import StratifiedKFold \n",
    "from sklearn.metrics import log_loss \n",
    "from sklearn.metrics import precision_recall_curve, average_precision_score \n",
    "from sklearn.metrics import roc_curve, auc, roc_auc_score\n",
    "from sklearn.metrics import confusion_matrix, classification_report \n",
    "from statistics import mean, stdev\n",
    "\n",
    "from sklearn.ensemble import RandomForestRegressor\n",
    "from sklearn.feature_selection import SelectFromModel\n",
    "from sklearn.ensemble import RandomForestClassifier\n",
    "from sklearn.naive_bayes import GaussianNB \n",
    "from sklearn.neighbors import KNeighborsClassifier \n",
    "from sklearn.tree import DecisionTreeClassifier "
   ]
  },
  {
   "cell_type": "markdown",
   "metadata": {},
   "source": [
    "# Load UDP Benign and DDoS CIC2023 Flows"
   ]
  },
  {
   "cell_type": "code",
   "execution_count": 129,
   "metadata": {},
   "outputs": [],
   "source": [
    "# Acquire Data\n",
    "# Data here has all features\n",
    "current_path = os.getcwd()\n",
    "\n",
    "# BENIGN DATA FILES ***************************************\n",
    "file1='dataset/Benign.csv'\n",
    "benign = pd.read_csv(file1)\n",
    "benign = benign[(benign['proto_type'] == 17)]\n",
    "benign['attack'] = 0\n",
    "\n",
    "# DDOS-VOLUMETRIC ATTACK ***********************************\n",
    "file2='dataset/UDPFlood.csv'\n",
    "udp = pd.read_csv(file2)\n",
    "udp['attack'] = 1\n",
    "\n",
    "# DDOS-TRANSPORT PROTOCOL VULNERABILITIES *******************\n",
    "file3='dataset/UDPFrag.csv'\n",
    "udp_frag = pd.read_csv(file3)\n",
    "udp_frag['attack'] = 1\n",
    "\n",
    "## CONCATE ALL THE RECORDS ************************************\n",
    "frames = [benign, \n",
    "          udp, \n",
    "          udp_frag]\n",
    "\n",
    "data = pd.concat(frames)"
   ]
  },
  {
   "cell_type": "code",
   "execution_count": 130,
   "metadata": {
    "scrolled": true
   },
   "outputs": [
    {
     "name": "stdout",
     "output_type": "stream",
     "text": [
      "Shape of data:  (79144, 34)\n",
      "Attack and Benign Records:  attack\n",
      "1    65800\n",
      "0    13344\n",
      "Name: count, dtype: int64\n"
     ]
    }
   ],
   "source": [
    "# Size of the data\n",
    "print(\"Shape of data: \", data.shape)\n",
    "# Attack wise size\n",
    "print(\"Attack and Benign Records: \", data[\"attack\"].value_counts())"
   ]
  },
  {
   "cell_type": "code",
   "execution_count": 131,
   "metadata": {},
   "outputs": [
    {
     "data": {
      "text/plain": [
       "(39376, 34)"
      ]
     },
     "execution_count": 131,
     "metadata": {},
     "output_type": "execute_result"
    }
   ],
   "source": [
    "udp.shape"
   ]
  },
  {
   "cell_type": "code",
   "execution_count": 132,
   "metadata": {},
   "outputs": [
    {
     "data": {
      "text/plain": [
       "Index(['ts', 'srcip', 'dstip', 'srcport', 'dstport', 'proto_type', 'sbytes',\n",
       "       'dbytes', 'flow_bytes', 'rate', 'srate', 'drate', 'spkts', 'dpkts',\n",
       "       'ttl', 'iat', 'max_iat', 'min_iat', 'total_duration',\n",
       "       'N_IN_Conn_P_Src_IP', 'N_IN_Conn_P_Dst_IP', 'avg_pkt_len', 'state_con',\n",
       "       'state_int', 'state_rst', 'fin_flag_number', 'syn_flag_number',\n",
       "       'psh_flag_number', 'ack_flag_number', 'urg_flag_number',\n",
       "       'ece_flag_number', 'cwr_flag_number', 'attack', 'x'],\n",
       "      dtype='object')"
      ]
     },
     "execution_count": 132,
     "metadata": {},
     "output_type": "execute_result"
    }
   ],
   "source": [
    "data.columns"
   ]
  },
  {
   "cell_type": "markdown",
   "metadata": {},
   "source": [
    "# Select parameters based on the model i.e. with or without time based features"
   ]
  },
  {
   "cell_type": "code",
   "execution_count": 133,
   "metadata": {},
   "outputs": [],
   "source": [
    "# Features according to Importance\n",
    "features =  ['flow_bytes', 'spkts','dpkts','ttl','total_duration','min_iat',\n",
    "             'N_IN_Conn_P_Src_IP', 'N_IN_Conn_P_Dst_IP', 'avg_pkt_len']\n",
    "best_features = data[features] \n",
    "target_features = data[['attack']]"
   ]
  },
  {
   "cell_type": "markdown",
   "metadata": {},
   "source": [
    "## Descriptio of the parametes\n",
    "\n",
    "**(1) N_IN_Conn_P_Src_IP**: number of packets sent from a source ip address (note src_ip_bytes is similar to it)\n",
    "**(2) N_IN_Conn_P_Dst_IP**: number of incoming packets to a destination ip address\n",
    "**(3) spkts**: number of packets transmitted by a source in a flow till now\n",
    "**(4) dpkts**: number of packets transmitted by a destination in a flow till now\n",
    "**(5) srate**: spkts/duration of flow\n",
    "**(6) drate**: dpkts/duration of flow\n",
    "**(7) avg_packet_len**: mean packet length in bytes in either direction of the a flow\n",
    "**(8) state_con**: if this is a TCP packet and not first packet in the flow, with RESET flag not on\n",
    "**(9) state_int**: 1, if this is first packet in a UDP flow\n",
    "**(10) state_rst**: if this is a TCP packet and reset flag is on, this is the thir flag in tcp\n",
    "**(11-17) Flags of TCP**: FIN, SYN, PUSH, URG, ECE, CWR, ACK"
   ]
  },
  {
   "cell_type": "markdown",
   "metadata": {},
   "source": [
    "# Split Dataset into X and Y"
   ]
  },
  {
   "cell_type": "code",
   "execution_count": 134,
   "metadata": {},
   "outputs": [],
   "source": [
    "# Split of  predictors and response variable\n",
    "X= best_features\n",
    "y= target_features"
   ]
  },
  {
   "cell_type": "markdown",
   "metadata": {},
   "source": [
    "# Use StratifiedKFold with K=10"
   ]
  },
  {
   "cell_type": "code",
   "execution_count": 135,
   "metadata": {},
   "outputs": [],
   "source": [
    "# Create  classifier object.\n",
    "rf = RandomForestClassifier(n_estimators = 1, n_jobs=2, random_state=0, max_depth=8)  \n",
    "n_splits = 10\n",
    "# Create StratifiedKFold object.\n",
    "skf = StratifiedKFold(n_splits=10, shuffle=True, random_state=1)\n",
    "accu_stratified = []\n",
    "conf_matrices = []  # Store confusion matrices\n",
    "per_class_accuracies = [] "
   ]
  },
  {
   "cell_type": "code",
   "execution_count": 136,
   "metadata": {
    "scrolled": true
   },
   "outputs": [
    {
     "name": "stderr",
     "output_type": "stream",
     "text": [
      "/var/folders/m0/t3_0v49x6v9gdbz4l37dhs580000gn/T/ipykernel_73868/1092353343.py:5: DataConversionWarning: A column-vector y was passed when a 1d array was expected. Please change the shape of y to (n_samples,), for example using ravel().\n",
      "  rf.fit(x_train_fold, y_train_fold)\n",
      "/var/folders/m0/t3_0v49x6v9gdbz4l37dhs580000gn/T/ipykernel_73868/1092353343.py:5: DataConversionWarning: A column-vector y was passed when a 1d array was expected. Please change the shape of y to (n_samples,), for example using ravel().\n",
      "  rf.fit(x_train_fold, y_train_fold)\n",
      "/var/folders/m0/t3_0v49x6v9gdbz4l37dhs580000gn/T/ipykernel_73868/1092353343.py:5: DataConversionWarning: A column-vector y was passed when a 1d array was expected. Please change the shape of y to (n_samples,), for example using ravel().\n",
      "  rf.fit(x_train_fold, y_train_fold)\n",
      "/var/folders/m0/t3_0v49x6v9gdbz4l37dhs580000gn/T/ipykernel_73868/1092353343.py:5: DataConversionWarning: A column-vector y was passed when a 1d array was expected. Please change the shape of y to (n_samples,), for example using ravel().\n",
      "  rf.fit(x_train_fold, y_train_fold)\n",
      "/var/folders/m0/t3_0v49x6v9gdbz4l37dhs580000gn/T/ipykernel_73868/1092353343.py:5: DataConversionWarning: A column-vector y was passed when a 1d array was expected. Please change the shape of y to (n_samples,), for example using ravel().\n",
      "  rf.fit(x_train_fold, y_train_fold)\n",
      "/var/folders/m0/t3_0v49x6v9gdbz4l37dhs580000gn/T/ipykernel_73868/1092353343.py:5: DataConversionWarning: A column-vector y was passed when a 1d array was expected. Please change the shape of y to (n_samples,), for example using ravel().\n",
      "  rf.fit(x_train_fold, y_train_fold)\n",
      "/var/folders/m0/t3_0v49x6v9gdbz4l37dhs580000gn/T/ipykernel_73868/1092353343.py:5: DataConversionWarning: A column-vector y was passed when a 1d array was expected. Please change the shape of y to (n_samples,), for example using ravel().\n",
      "  rf.fit(x_train_fold, y_train_fold)\n",
      "/var/folders/m0/t3_0v49x6v9gdbz4l37dhs580000gn/T/ipykernel_73868/1092353343.py:5: DataConversionWarning: A column-vector y was passed when a 1d array was expected. Please change the shape of y to (n_samples,), for example using ravel().\n",
      "  rf.fit(x_train_fold, y_train_fold)\n",
      "/var/folders/m0/t3_0v49x6v9gdbz4l37dhs580000gn/T/ipykernel_73868/1092353343.py:5: DataConversionWarning: A column-vector y was passed when a 1d array was expected. Please change the shape of y to (n_samples,), for example using ravel().\n",
      "  rf.fit(x_train_fold, y_train_fold)\n",
      "/var/folders/m0/t3_0v49x6v9gdbz4l37dhs580000gn/T/ipykernel_73868/1092353343.py:5: DataConversionWarning: A column-vector y was passed when a 1d array was expected. Please change the shape of y to (n_samples,), for example using ravel().\n",
      "  rf.fit(x_train_fold, y_train_fold)\n"
     ]
    }
   ],
   "source": [
    "# Create model with StratifiedKFold   \n",
    "for train_index, test_index in skf.split(X, y):\n",
    "    x_train_fold, x_test_fold = X.iloc[train_index], X.iloc[test_index]\n",
    "    y_train_fold, y_test_fold = y.iloc[train_index], y.iloc[test_index]\n",
    "    rf.fit(x_train_fold, y_train_fold)\n",
    "    #accu_stratified.append(rf.score(x_test_fold, y_test_fold))\n",
    "\n",
    "    # Compute confusion matrix\n",
    "    conf_matrix = confusion_matrix(y_test_fold,rf.predict(x_test_fold))\n",
    "    conf_matrices.append(conf_matrix)\n",
    "    \n",
    "    # Compute per-class accuracies\n",
    "    per_class_accuracy = conf_matrix.diagonal() / conf_matrix.sum(axis=1)\n",
    "    per_class_accuracies.append(per_class_accuracy)\n",
    "\n",
    "# Convert lists to numpy arrays for easier manipulation\n",
    "conf_matrices = np.array(conf_matrices)\n",
    "per_class_accuracies = np.array(per_class_accuracies)\n"
   ]
  },
  {
   "cell_type": "code",
   "execution_count": 137,
   "metadata": {},
   "outputs": [
    {
     "name": "stdout",
     "output_type": "stream",
     "text": [
      "Accuracy of Attack Records:  [0.99101124 0.9917603  0.97602996 0.96928839 0.98425787 0.99550225\n",
      " 0.994003   0.98875562 0.99250375 0.98950525]\n",
      "\n",
      "Median Accuracy of Attack Records: 99.0258241665684 %\n",
      "\n",
      "Standard Deviation of Attack Records: 0.008436740753768192\n",
      "Accuracy of Benign Records:  [0.98844985 0.98753799 0.98966565 0.993769   0.9887538  0.9893617\n",
      " 0.99012158 0.98647416 0.98905775 0.98784195]\n",
      "\n",
      "Median Accuracy of Benign Records: 98.89057750759879 %\n",
      "\n",
      "Standard Deviation of Benign Records: 0.001963370560452135\n"
     ]
    },
    {
     "data": {
      "image/png": "[encoded data removed]",
      "text/plain": [
       "<Figure size 1000x600 with 1 Axes>"
      ]
     },
     "metadata": {},
     "output_type": "display_data"
    }
   ],
   "source": [
    "# Plotting per-class accuracies\n",
    "\n",
    "plt.figure(figsize=(10, 6))\n",
    "for i, class_accuracy in enumerate(per_class_accuracies.T, 1):\n",
    "    if(i==1):\n",
    "        plt.plot(range(1, n_splits + 1), class_accuracy, marker='o', label=f'Benign', color='green',  linestyle='dashed', markersize=10)\n",
    "        print(\"Accuracy of Attack Records: \", class_accuracy)\n",
    "        print('\\nMedian Accuracy of Attack Records:', np.median(class_accuracy)*100, '%')\n",
    "        print('\\nStandard Deviation of Attack Records:', stdev(class_accuracy))\n",
    "    else:\n",
    "        plt.plot(range(1, n_splits + 1), class_accuracy, marker='*', label=f'Attack', color='red',  linestyle='dotted', markersize=10)  \n",
    "        print(\"Accuracy of Benign Records: \", class_accuracy)\n",
    "        print('\\nMedian Accuracy of Benign Records:', np.median(class_accuracy)*100, '%')\n",
    "        print('\\nStandard Deviation of Benign Records:', stdev(class_accuracy))\n",
    "    \n",
    "plt.title('')\n",
    "plt.xlabel('Fold', fontsize=16)\n",
    "plt.ylabel('Accuracy', fontsize=16)\n",
    "plt.xticks(range(1, n_splits + 1))\n",
    "plt.tick_params(axis='both', which='major', labelsize=16)\n",
    "plt.tick_params(axis='both', which='minor', labelsize=16)\n",
    "plt.legend()\n",
    "plt.grid(True)\n",
    "# Save the plot as a PNG file\n",
    "plt.savefig('StratifiedKFold_5Tree.png', bbox_inches='tight')\n",
    "plt.show()"
   ]
  },
  {
   "cell_type": "markdown",
   "metadata": {},
   "source": [
    "# Training model on the whole dataset"
   ]
  },
  {
   "cell_type": "code",
   "execution_count": 138,
   "metadata": {},
   "outputs": [
    {
     "name": "stderr",
     "output_type": "stream",
     "text": [
      "/var/folders/m0/t3_0v49x6v9gdbz4l37dhs580000gn/T/ipykernel_73868/4076330508.py:5: DataConversionWarning: A column-vector y was passed when a 1d array was expected. Please change the shape of y to (n_samples,), for example using ravel().\n",
      "  rf.fit(X, y)\n"
     ]
    },
    {
     "data": {
      "text/html": [
       "<style>#sk-container-id-6 {color: black;background-color: white;}#sk-container-id-6 pre{padding: 0;}#sk-container-id-6 div.sk-toggleable {background-color: white;}#sk-container-id-6 label.sk-toggleable__label {cursor: pointer;display: block;width: 100%;margin-bottom: 0;padding: 0.3em;box-sizing: border-box;text-align: center;}#sk-container-id-6 label.sk-toggleable__label-arrow:before {content: \"▸\";float: left;margin-right: 0.25em;color: #696969;}#sk-container-id-6 label.sk-toggleable__label-arrow:hover:before {color: black;}#sk-container-id-6 div.sk-estimator:hover label.sk-toggleable__label-arrow:before {color: black;}#sk-container-id-6 div.sk-toggleable__content {max-height: 0;max-width: 0;overflow: hidden;text-align: left;background-color: #f0f8ff;}#sk-container-id-6 div.sk-toggleable__content pre {margin: 0.2em;color: black;border-radius: 0.25em;background-color: #f0f8ff;}#sk-container-id-6 input.sk-toggleable__control:checked~div.sk-toggleable__content {max-height: 200px;max-width: 100%;overflow: auto;}#sk-container-id-6 input.sk-toggleable__control:checked~label.sk-toggleable__label-arrow:before {content: \"▾\";}#sk-container-id-6 div.sk-estimator input.sk-toggleable__control:checked~label.sk-toggleable__label {background-color: #d4ebff;}#sk-container-id-6 div.sk-label input.sk-toggleable__control:checked~label.sk-toggleable__label {background-color: #d4ebff;}#sk-container-id-6 input.sk-hidden--visually {border: 0;clip: rect(1px 1px 1px 1px);clip: rect(1px, 1px, 1px, 1px);height: 1px;margin: -1px;overflow: hidden;padding: 0;position: absolute;width: 1px;}#sk-container-id-6 div.sk-estimator {font-family: monospace;background-color: #f0f8ff;border: 1px dotted black;border-radius: 0.25em;box-sizing: border-box;margin-bottom: 0.5em;}#sk-container-id-6 div.sk-estimator:hover {background-color: #d4ebff;}#sk-container-id-6 div.sk-parallel-item::after {content: \"\";width: 100%;border-bottom: 1px solid gray;flex-grow: 1;}#sk-container-id-6 div.sk-label:hover label.sk-toggleable__label {background-color: #d4ebff;}#sk-container-id-6 div.sk-serial::before {content: \"\";position: absolute;border-left: 1px solid gray;box-sizing: border-box;top: 0;bottom: 0;left: 50%;z-index: 0;}#sk-container-id-6 div.sk-serial {display: flex;flex-direction: column;align-items: center;background-color: white;padding-right: 0.2em;padding-left: 0.2em;position: relative;}#sk-container-id-6 div.sk-item {position: relative;z-index: 1;}#sk-container-id-6 div.sk-parallel {display: flex;align-items: stretch;justify-content: center;background-color: white;position: relative;}#sk-container-id-6 div.sk-item::before, #sk-container-id-6 div.sk-parallel-item::before {content: \"\";position: absolute;border-left: 1px solid gray;box-sizing: border-box;top: 0;bottom: 0;left: 50%;z-index: -1;}#sk-container-id-6 div.sk-parallel-item {display: flex;flex-direction: column;z-index: 1;position: relative;background-color: white;}#sk-container-id-6 div.sk-parallel-item:first-child::after {align-self: flex-end;width: 50%;}#sk-container-id-6 div.sk-parallel-item:last-child::after {align-self: flex-start;width: 50%;}#sk-container-id-6 div.sk-parallel-item:only-child::after {width: 0;}#sk-container-id-6 div.sk-dashed-wrapped {border: 1px dashed gray;margin: 0 0.4em 0.5em 0.4em;box-sizing: border-box;padding-bottom: 0.4em;background-color: white;}#sk-container-id-6 div.sk-label label {font-family: monospace;font-weight: bold;display: inline-block;line-height: 1.2em;}#sk-container-id-6 div.sk-label-container {text-align: center;}#sk-container-id-6 div.sk-container {/* jupyter's `normalize.less` sets `[hidden] { display: none; }` but bootstrap.min.css set `[hidden] { display: none !important; }` so we also need the `!important` here to be able to override the default hidden behavior on the sphinx rendered scikit-learn.org. See: https://github.com/scikit-learn/scikit-learn/issues/21755 */display: inline-block !important;position: relative;}#sk-container-id-6 div.sk-text-repr-fallback {display: none;}</style><div id=\"sk-container-id-6\" class=\"sk-top-container\"><div class=\"sk-text-repr-fallback\"><pre>RandomForestClassifier(max_depth=8, n_estimators=1, n_jobs=2, random_state=0)</pre><b>In a Jupyter environment, please rerun this cell to show the HTML representation or trust the notebook. <br />On GitHub, the HTML representation is unable to render, please try loading this page with nbviewer.org.</b></div><div class=\"sk-container\" hidden><div class=\"sk-item\"><div class=\"sk-estimator sk-toggleable\"><input class=\"sk-toggleable__control sk-hidden--visually\" id=\"sk-estimator-id-6\" type=\"checkbox\" checked><label for=\"sk-estimator-id-6\" class=\"sk-toggleable__label sk-toggleable__label-arrow\">RandomForestClassifier</label><div class=\"sk-toggleable__content\"><pre>RandomForestClassifier(max_depth=8, n_estimators=1, n_jobs=2, random_state=0)</pre></div></div></div></div></div>"
      ],
      "text/plain": [
       "RandomForestClassifier(max_depth=8, n_estimators=1, n_jobs=2, random_state=0)"
      ]
     },
     "execution_count": 138,
     "metadata": {},
     "output_type": "execute_result"
    }
   ],
   "source": [
    "from sklearn.ensemble import RandomForestClassifier\n",
    "from sklearn.ensemble import RandomForestRegressor\n",
    "from sklearn.feature_selection import SelectFromModel\n",
    "rf = RandomForestClassifier(n_estimators = 1, n_jobs=2, random_state=0, max_depth=8)\n",
    "rf.fit(X, y)"
   ]
  },
  {
   "cell_type": "markdown",
   "metadata": {},
   "source": [
    "# Mean Decrease of Accuracy of the Parameters"
   ]
  },
  {
   "cell_type": "code",
   "execution_count": 139,
   "metadata": {
    "scrolled": true
   },
   "outputs": [
    {
     "name": "stdout",
     "output_type": "stream",
     "text": [
      "[0.31105737134222494, 0.02789146599293627, 0.0011959111395898406, 0.01107020862034864, 0.5908554228336896, 0.0, 0.018557148680936015, 0.030548731695405038, 0.008823739694869567]\n"
     ]
    },
    {
     "data": {
      "image/png": "[encoded data removed]",
      "text/plain": [
       "<Figure size 1000x600 with 1 Axes>"
      ]
     },
     "metadata": {},
     "output_type": "display_data"
    }
   ],
   "source": [
    "best_features.rename(columns={\"N_IN_Conn_P_Src_IP\": \"N_IN_Conn_Src_IP\", \"N_IN_Conn_P_Dst_IP\": \"N_IN_Conn_Dst_IP\"})\n",
    "labels = best_features.columns\n",
    "\n",
    "importances = list(rf.feature_importances_)\n",
    "print(importances)\n",
    "colors = (0.2, # redness\n",
    "         0.4, # greenness\n",
    "         0.2, # blueness\n",
    "         0.6 # transparency\n",
    "         ) \n",
    "# Sort feature importances in descending order\n",
    "sorted_indices = np.argsort(importances)[::-1]\n",
    "sorted_list =[importances[i] for i in sorted_indices]\n",
    "# Plot feature importances\n",
    "plt.figure(figsize=(10, 6))\n",
    "plt.title('')\n",
    "plt.barh(range(X.shape[1]), sorted_list, align=\"center\",color=colors )\n",
    "plt.yticks(range(X.shape[1]), labels[sorted_indices], fontsize=12)\n",
    "plt.xlabel(\"Importance\", fontsize=16)\n",
    "plt.ylabel(\"Features\", fontsize=16)\n",
    "plt.tick_params(axis='both', which='major', labelsize=12)\n",
    "plt.tick_params(axis='both', which='minor', labelsize=12)\n",
    "# Save the plot as a PNG file\n",
    "plt.savefig('Importance.png', bbox_inches='tight')\n",
    "plt.show()"
   ]
  },
  {
   "cell_type": "markdown",
   "metadata": {},
   "source": [
    "# Generate Tree"
   ]
  },
  {
   "cell_type": "code",
   "execution_count": 140,
   "metadata": {},
   "outputs": [
    {
     "name": "stdout",
     "output_type": "stream",
     "text": [
      "TREE  0\n",
      "|--- feature_4 <= 3.69\n",
      "|   |--- feature_0 <= 1198.00\n",
      "|   |   |--- feature_7 <= 28.50\n",
      "|   |   |   |--- feature_1 <= 4.50\n",
      "|   |   |   |   |--- feature_6 <= 1.50\n",
      "|   |   |   |   |   |--- feature_3 <= 56.50\n",
      "|   |   |   |   |   |   |--- feature_3 <= 19.50\n",
      "|   |   |   |   |   |   |   |--- feature_0 <= 304.50\n",
      "|   |   |   |   |   |   |   |   |--- class: 0.0\n",
      "|   |   |   |   |   |   |   |--- feature_0 >  304.50\n",
      "|   |   |   |   |   |   |   |   |--- class: 0.0\n",
      "|   |   |   |   |   |   |--- feature_3 >  19.50\n",
      "|   |   |   |   |   |   |   |--- feature_7 <= 1.50\n",
      "|   |   |   |   |   |   |   |   |--- class: 1.0\n",
      "|   |   |   |   |   |   |   |--- feature_7 >  1.50\n",
      "|   |   |   |   |   |   |   |   |--- class: 1.0\n",
      "|   |   |   |   |   |--- feature_3 >  56.50\n",
      "|   |   |   |   |   |   |--- feature_8 <= 331.50\n",
      "|   |   |   |   |   |   |   |--- feature_4 <= 0.19\n",
      "|   |   |   |   |   |   |   |   |--- class: 0.0\n",
      "|   |   |   |   |   |   |   |--- feature_4 >  0.19\n",
      "|   |   |   |   |   |   |   |   |--- class: 1.0\n",
      "|   |   |   |   |   |   |--- feature_8 >  331.50\n",
      "|   |   |   |   |   |   |   |--- feature_4 <= 1.23\n",
      "|   |   |   |   |   |   |   |   |--- class: 0.0\n",
      "|   |   |   |   |   |   |   |--- feature_4 >  1.23\n",
      "|   |   |   |   |   |   |   |   |--- class: 0.0\n",
      "|   |   |   |   |--- feature_6 >  1.50\n",
      "|   |   |   |   |   |--- feature_8 <= 71.50\n",
      "|   |   |   |   |   |   |--- feature_6 <= 4.50\n",
      "|   |   |   |   |   |   |   |--- feature_1 <= 1.50\n",
      "|   |   |   |   |   |   |   |   |--- class: 0.0\n",
      "|   |   |   |   |   |   |   |--- feature_1 >  1.50\n",
      "|   |   |   |   |   |   |   |   |--- class: 1.0\n",
      "|   |   |   |   |   |   |--- feature_6 >  4.50\n",
      "|   |   |   |   |   |   |   |--- feature_7 <= 15.50\n",
      "|   |   |   |   |   |   |   |   |--- class: 0.0\n",
      "|   |   |   |   |   |   |   |--- feature_7 >  15.50\n",
      "|   |   |   |   |   |   |   |   |--- class: 1.0\n",
      "|   |   |   |   |   |--- feature_8 >  71.50\n",
      "|   |   |   |   |   |   |--- feature_7 <= 1.50\n",
      "|   |   |   |   |   |   |   |--- feature_3 <= 125.00\n",
      "|   |   |   |   |   |   |   |   |--- class: 0.0\n",
      "|   |   |   |   |   |   |   |--- feature_3 >  125.00\n",
      "|   |   |   |   |   |   |   |   |--- class: 0.0\n",
      "|   |   |   |   |   |   |--- feature_7 >  1.50\n",
      "|   |   |   |   |   |   |   |--- feature_0 <= 89.00\n",
      "|   |   |   |   |   |   |   |   |--- class: 0.0\n",
      "|   |   |   |   |   |   |   |--- feature_0 >  89.00\n",
      "|   |   |   |   |   |   |   |   |--- class: 0.0\n",
      "|   |   |   |--- feature_1 >  4.50\n",
      "|   |   |   |   |--- feature_7 <= 4.50\n",
      "|   |   |   |   |   |--- feature_2 <= 3.50\n",
      "|   |   |   |   |   |   |--- feature_6 <= 3.50\n",
      "|   |   |   |   |   |   |   |--- feature_3 <= 159.50\n",
      "|   |   |   |   |   |   |   |   |--- class: 1.0\n",
      "|   |   |   |   |   |   |   |--- feature_3 >  159.50\n",
      "|   |   |   |   |   |   |   |   |--- class: 1.0\n",
      "|   |   |   |   |   |   |--- feature_6 >  3.50\n",
      "|   |   |   |   |   |   |   |--- class: 0.0\n",
      "|   |   |   |   |   |--- feature_2 >  3.50\n",
      "|   |   |   |   |   |   |--- feature_2 <= 8.50\n",
      "|   |   |   |   |   |   |   |--- feature_1 <= 10.50\n",
      "|   |   |   |   |   |   |   |   |--- class: 0.0\n",
      "|   |   |   |   |   |   |   |--- feature_1 >  10.50\n",
      "|   |   |   |   |   |   |   |   |--- class: 1.0\n",
      "|   |   |   |   |   |   |--- feature_2 >  8.50\n",
      "|   |   |   |   |   |   |   |--- feature_1 <= 12.50\n",
      "|   |   |   |   |   |   |   |   |--- class: 0.0\n",
      "|   |   |   |   |   |   |   |--- feature_1 >  12.50\n",
      "|   |   |   |   |   |   |   |   |--- class: 1.0\n",
      "|   |   |   |   |--- feature_7 >  4.50\n",
      "|   |   |   |   |   |--- class: 1.0\n",
      "|   |   |--- feature_7 >  28.50\n",
      "|   |   |   |--- feature_6 <= 9.50\n",
      "|   |   |   |   |--- feature_8 <= 63.50\n",
      "|   |   |   |   |   |--- class: 1.0\n",
      "|   |   |   |   |--- feature_8 >  63.50\n",
      "|   |   |   |   |   |--- class: 0.0\n",
      "|   |   |   |--- feature_6 >  9.50\n",
      "|   |   |   |   |--- feature_4 <= 0.14\n",
      "|   |   |   |   |   |--- feature_0 <= 87.00\n",
      "|   |   |   |   |   |   |--- feature_0 <= 84.50\n",
      "|   |   |   |   |   |   |   |--- class: 0.0\n",
      "|   |   |   |   |   |   |--- feature_0 >  84.50\n",
      "|   |   |   |   |   |   |   |--- class: 1.0\n",
      "|   |   |   |   |   |--- feature_0 >  87.00\n",
      "|   |   |   |   |   |   |--- class: 0.0\n",
      "|   |   |   |   |--- feature_4 >  0.14\n",
      "|   |   |   |   |   |--- feature_6 <= 28.50\n",
      "|   |   |   |   |   |   |--- class: 0.0\n",
      "|   |   |   |   |   |--- feature_6 >  28.50\n",
      "|   |   |   |   |   |   |--- class: 1.0\n",
      "|   |--- feature_0 >  1198.00\n",
      "|   |   |--- feature_3 <= 62.00\n",
      "|   |   |   |--- class: 0.0\n",
      "|   |   |--- feature_3 >  62.00\n",
      "|   |   |   |--- feature_3 <= 96.00\n",
      "|   |   |   |   |--- feature_0 <= 2735.50\n",
      "|   |   |   |   |   |--- feature_4 <= 0.11\n",
      "|   |   |   |   |   |   |--- class: 1.0\n",
      "|   |   |   |   |   |--- feature_4 >  0.11\n",
      "|   |   |   |   |   |   |--- feature_1 <= 25.50\n",
      "|   |   |   |   |   |   |   |--- feature_7 <= 2.50\n",
      "|   |   |   |   |   |   |   |   |--- class: 0.0\n",
      "|   |   |   |   |   |   |   |--- feature_7 >  2.50\n",
      "|   |   |   |   |   |   |   |   |--- class: 0.0\n",
      "|   |   |   |   |   |   |--- feature_1 >  25.50\n",
      "|   |   |   |   |   |   |   |--- class: 1.0\n",
      "|   |   |   |   |--- feature_0 >  2735.50\n",
      "|   |   |   |   |   |--- feature_4 <= 2.40\n",
      "|   |   |   |   |   |   |--- feature_1 <= 12.50\n",
      "|   |   |   |   |   |   |   |--- feature_8 <= 1453.00\n",
      "|   |   |   |   |   |   |   |   |--- class: 0.0\n",
      "|   |   |   |   |   |   |   |--- feature_8 >  1453.00\n",
      "|   |   |   |   |   |   |   |   |--- class: 1.0\n",
      "|   |   |   |   |   |   |--- feature_1 >  12.50\n",
      "|   |   |   |   |   |   |   |--- class: 1.0\n",
      "|   |   |   |   |   |--- feature_4 >  2.40\n",
      "|   |   |   |   |   |   |--- feature_7 <= 10.50\n",
      "|   |   |   |   |   |   |   |--- feature_8 <= 927.05\n",
      "|   |   |   |   |   |   |   |   |--- class: 0.0\n",
      "|   |   |   |   |   |   |   |--- feature_8 >  927.05\n",
      "|   |   |   |   |   |   |   |   |--- class: 1.0\n",
      "|   |   |   |   |   |   |--- feature_7 >  10.50\n",
      "|   |   |   |   |   |   |   |--- class: 0.0\n",
      "|   |   |   |--- feature_3 >  96.00\n",
      "|   |   |   |   |--- feature_8 <= 357.15\n",
      "|   |   |   |   |   |--- feature_6 <= 2.50\n",
      "|   |   |   |   |   |   |--- feature_7 <= 1.50\n",
      "|   |   |   |   |   |   |   |--- feature_4 <= 0.70\n",
      "|   |   |   |   |   |   |   |   |--- class: 0.0\n",
      "|   |   |   |   |   |   |   |--- feature_4 >  0.70\n",
      "|   |   |   |   |   |   |   |   |--- class: 1.0\n",
      "|   |   |   |   |   |   |--- feature_7 >  1.50\n",
      "|   |   |   |   |   |   |   |--- class: 0.0\n",
      "|   |   |   |   |   |--- feature_6 >  2.50\n",
      "|   |   |   |   |   |   |--- class: 0.0\n",
      "|   |   |   |   |--- feature_8 >  357.15\n",
      "|   |   |   |   |   |--- class: 1.0\n",
      "|--- feature_4 >  3.69\n",
      "|   |--- feature_1 <= 6.50\n",
      "|   |   |--- feature_7 <= 22.50\n",
      "|   |   |   |--- feature_4 <= 16.51\n",
      "|   |   |   |   |--- feature_0 <= 377.00\n",
      "|   |   |   |   |   |--- feature_1 <= 1.50\n",
      "|   |   |   |   |   |   |--- class: 1.0\n",
      "|   |   |   |   |   |--- feature_1 >  1.50\n",
      "|   |   |   |   |   |   |--- feature_4 <= 5.20\n",
      "|   |   |   |   |   |   |   |--- feature_1 <= 3.00\n",
      "|   |   |   |   |   |   |   |   |--- class: 1.0\n",
      "|   |   |   |   |   |   |   |--- feature_1 >  3.00\n",
      "|   |   |   |   |   |   |   |   |--- class: 0.0\n",
      "|   |   |   |   |   |   |--- feature_4 >  5.20\n",
      "|   |   |   |   |   |   |   |--- feature_6 <= 3.50\n",
      "|   |   |   |   |   |   |   |   |--- class: 0.0\n",
      "|   |   |   |   |   |   |   |--- feature_6 >  3.50\n",
      "|   |   |   |   |   |   |   |   |--- class: 0.0\n",
      "|   |   |   |   |--- feature_0 >  377.00\n",
      "|   |   |   |   |   |--- feature_6 <= 1.50\n",
      "|   |   |   |   |   |   |--- feature_7 <= 20.50\n",
      "|   |   |   |   |   |   |   |--- feature_4 <= 5.13\n",
      "|   |   |   |   |   |   |   |   |--- class: 0.0\n",
      "|   |   |   |   |   |   |   |--- feature_4 >  5.13\n",
      "|   |   |   |   |   |   |   |   |--- class: 0.0\n",
      "|   |   |   |   |   |   |--- feature_7 >  20.50\n",
      "|   |   |   |   |   |   |   |--- feature_0 <= 888.00\n",
      "|   |   |   |   |   |   |   |   |--- class: 0.0\n",
      "|   |   |   |   |   |   |   |--- feature_0 >  888.00\n",
      "|   |   |   |   |   |   |   |   |--- class: 0.0\n",
      "|   |   |   |   |   |--- feature_6 >  1.50\n",
      "|   |   |   |   |   |   |--- feature_3 <= 191.50\n",
      "|   |   |   |   |   |   |   |--- feature_7 <= 21.50\n",
      "|   |   |   |   |   |   |   |   |--- class: 0.0\n",
      "|   |   |   |   |   |   |   |--- feature_7 >  21.50\n",
      "|   |   |   |   |   |   |   |   |--- class: 0.0\n",
      "|   |   |   |   |   |   |--- feature_3 >  191.50\n",
      "|   |   |   |   |   |   |   |--- class: 0.0\n",
      "|   |   |   |--- feature_4 >  16.51\n",
      "|   |   |   |   |--- feature_7 <= 2.50\n",
      "|   |   |   |   |   |--- feature_6 <= 3.50\n",
      "|   |   |   |   |   |   |--- feature_8 <= 48.00\n",
      "|   |   |   |   |   |   |   |--- feature_4 <= 27.92\n",
      "|   |   |   |   |   |   |   |   |--- class: 1.0\n",
      "|   |   |   |   |   |   |   |--- feature_4 >  27.92\n",
      "|   |   |   |   |   |   |   |   |--- class: 0.0\n",
      "|   |   |   |   |   |   |--- feature_8 >  48.00\n",
      "|   |   |   |   |   |   |   |--- feature_6 <= 2.50\n",
      "|   |   |   |   |   |   |   |   |--- class: 0.0\n",
      "|   |   |   |   |   |   |   |--- feature_6 >  2.50\n",
      "|   |   |   |   |   |   |   |   |--- class: 0.0\n",
      "|   |   |   |   |   |--- feature_6 >  3.50\n",
      "|   |   |   |   |   |   |--- class: 0.0\n",
      "|   |   |   |   |--- feature_7 >  2.50\n",
      "|   |   |   |   |   |--- feature_6 <= 1.50\n",
      "|   |   |   |   |   |   |--- feature_2 <= 1.00\n",
      "|   |   |   |   |   |   |   |--- feature_8 <= 222.00\n",
      "|   |   |   |   |   |   |   |   |--- class: 0.0\n",
      "|   |   |   |   |   |   |   |--- feature_8 >  222.00\n",
      "|   |   |   |   |   |   |   |   |--- class: 0.0\n",
      "|   |   |   |   |   |   |--- feature_2 >  1.00\n",
      "|   |   |   |   |   |   |   |--- class: 1.0\n",
      "|   |   |   |   |   |--- feature_6 >  1.50\n",
      "|   |   |   |   |   |   |--- class: 0.0\n",
      "|   |   |--- feature_7 >  22.50\n",
      "|   |   |   |--- feature_4 <= 26.78\n",
      "|   |   |   |   |--- feature_4 <= 24.99\n",
      "|   |   |   |   |   |--- feature_7 <= 23.50\n",
      "|   |   |   |   |   |   |--- class: 1.0\n",
      "|   |   |   |   |   |--- feature_7 >  23.50\n",
      "|   |   |   |   |   |   |--- class: 0.0\n",
      "|   |   |   |   |--- feature_4 >  24.99\n",
      "|   |   |   |   |   |--- feature_1 <= 5.50\n",
      "|   |   |   |   |   |   |--- class: 0.0\n",
      "|   |   |   |   |   |--- feature_1 >  5.50\n",
      "|   |   |   |   |   |   |--- feature_6 <= 1.50\n",
      "|   |   |   |   |   |   |   |--- feature_8 <= 222.00\n",
      "|   |   |   |   |   |   |   |   |--- class: 1.0\n",
      "|   |   |   |   |   |   |   |--- feature_8 >  222.00\n",
      "|   |   |   |   |   |   |   |   |--- class: 1.0\n",
      "|   |   |   |   |   |   |--- feature_6 >  1.50\n",
      "|   |   |   |   |   |   |   |--- class: 0.0\n",
      "|   |   |   |--- feature_4 >  26.78\n",
      "|   |   |   |   |--- class: 0.0\n",
      "|   |--- feature_1 >  6.50\n",
      "|   |   |--- feature_6 <= 1.50\n",
      "|   |   |   |--- feature_8 <= 151.50\n",
      "|   |   |   |   |--- feature_4 <= 36.51\n",
      "|   |   |   |   |   |--- class: 1.0\n",
      "|   |   |   |   |--- feature_4 >  36.51\n",
      "|   |   |   |   |   |--- class: 0.0\n",
      "|   |   |   |--- feature_8 >  151.50\n",
      "|   |   |   |   |--- feature_0 <= 5295.00\n",
      "|   |   |   |   |   |--- feature_0 <= 1661.00\n",
      "|   |   |   |   |   |   |--- feature_4 <= 30.00\n",
      "|   |   |   |   |   |   |   |--- class: 0.0\n",
      "|   |   |   |   |   |   |--- feature_4 >  30.00\n",
      "|   |   |   |   |   |   |   |--- feature_4 <= 30.00\n",
      "|   |   |   |   |   |   |   |   |--- class: 1.0\n",
      "|   |   |   |   |   |   |   |--- feature_4 >  30.00\n",
      "|   |   |   |   |   |   |   |   |--- class: 0.0\n",
      "|   |   |   |   |   |--- feature_0 >  1661.00\n",
      "|   |   |   |   |   |   |--- class: 0.0\n",
      "|   |   |   |   |--- feature_0 >  5295.00\n",
      "|   |   |   |   |   |--- feature_8 <= 341.76\n",
      "|   |   |   |   |   |   |--- class: 1.0\n",
      "|   |   |   |   |   |--- feature_8 >  341.76\n",
      "|   |   |   |   |   |   |--- class: 0.0\n",
      "|   |   |--- feature_6 >  1.50\n",
      "|   |   |   |--- class: 0.0\n",
      "\n"
     ]
    }
   ],
   "source": [
    "from sklearn import tree\n",
    "from sklearn.tree import export_text\n",
    "i_tree = 0\n",
    "for tree_in_forest in rf.estimators_:\n",
    "    with open('tree_' + str(i_tree) + '.dot', 'w') as my_file:\n",
    "        my_file = tree.export_graphviz(tree_in_forest, out_file = my_file)\n",
    "        r = export_text(tree_in_forest)\n",
    "        print(\"TREE \", i_tree)\n",
    "        print(r)  \n",
    "    i_tree = i_tree + 1"
   ]
  },
  {
   "cell_type": "markdown",
   "metadata": {},
   "source": [
    "# Save the RF Attack Detector"
   ]
  },
  {
   "cell_type": "code",
   "execution_count": 141,
   "metadata": {},
   "outputs": [],
   "source": [
    "import pickle as pickle\n",
    "filename = 'final_rf_model_dos_udp.sav'\n",
    "pickle.dump(rf, open(filename, 'wb'))"
   ]
  },
  {
   "cell_type": "markdown",
   "metadata": {},
   "source": [
    "# Display (Match-Action) Rules of the RF Tree, acceptable to P4"
   ]
  },
  {
   "cell_type": "code",
   "execution_count": 142,
   "metadata": {},
   "outputs": [
    {
     "name": "stdout",
     "output_type": "stream",
     "text": [
      "table_add MyIngress.UDPlevel_1 MyIngress.CheckFeatureUDP 0 0 1 => 1 4 3\n",
      "table_add MyIngress.UDPlevel_2 MyIngress.CheckFeatureUDP 1 4 1 => 2 0 1198\n",
      "table_add MyIngress.UDPlevel_3 MyIngress.CheckFeatureUDP 2 0 1 => 3 7 28\n",
      "table_add MyIngress.UDPlevel_4 MyIngress.CheckFeatureUDP 3 7 1 => 4 1 4\n",
      "table_add MyIngress.UDPlevel_5 MyIngress.CheckFeatureUDP 4 1 1 => 5 6 1\n",
      "table_add MyIngress.UDPlevel_6 MyIngress.CheckFeatureUDP 5 6 1 => 6 3 56\n",
      "table_add MyIngress.UDPlevel_7 MyIngress.CheckFeatureUDP 6 3 1 => 7 3 19\n",
      "table_add MyIngress.UDPlevel_8 MyIngress.CheckFeatureUDP 7 3 1 => 8 0 304\n",
      "table_add MyIngress.UDPlevel_9 MyIngress.SetClassUDP 8 0 1 => 9 0\n",
      "table_add MyIngress.UDPlevel_9 MyIngress.SetClassUDP 8 0 0 => 10 0\n",
      "table_add MyIngress.UDPlevel_8 MyIngress.CheckFeatureUDP 7 3 0 => 11 7 1\n",
      "table_add MyIngress.UDPlevel_9 MyIngress.SetClassUDP 11 7 1 => 12 1\n",
      "table_add MyIngress.UDPlevel_9 MyIngress.SetClassUDP 11 7 0 => 13 1\n",
      "table_add MyIngress.UDPlevel_7 MyIngress.CheckFeatureUDP 6 3 0 => 14 8 331\n",
      "table_add MyIngress.UDPlevel_8 MyIngress.CheckFeatureUDP 14 8 1 => 15 4 0\n",
      "table_add MyIngress.UDPlevel_9 MyIngress.SetClassUDP 15 4 1 => 16 0\n",
      "table_add MyIngress.UDPlevel_9 MyIngress.SetClassUDP 15 4 0 => 17 1\n",
      "table_add MyIngress.UDPlevel_8 MyIngress.CheckFeatureUDP 14 8 0 => 18 4 1\n",
      "table_add MyIngress.UDPlevel_9 MyIngress.SetClassUDP 18 4 1 => 19 0\n",
      "table_add MyIngress.UDPlevel_9 MyIngress.SetClassUDP 18 4 0 => 20 0\n",
      "table_add MyIngress.UDPlevel_6 MyIngress.CheckFeatureUDP 5 6 0 => 21 8 71\n",
      "table_add MyIngress.UDPlevel_7 MyIngress.CheckFeatureUDP 21 8 1 => 22 6 4\n",
      "table_add MyIngress.UDPlevel_8 MyIngress.CheckFeatureUDP 22 6 1 => 23 1 1\n",
      "table_add MyIngress.UDPlevel_9 MyIngress.SetClassUDP 23 1 1 => 24 0\n",
      "table_add MyIngress.UDPlevel_9 MyIngress.SetClassUDP 23 1 0 => 25 1\n",
      "table_add MyIngress.UDPlevel_8 MyIngress.CheckFeatureUDP 22 6 0 => 26 7 15\n",
      "table_add MyIngress.UDPlevel_9 MyIngress.SetClassUDP 26 7 1 => 27 0\n",
      "table_add MyIngress.UDPlevel_9 MyIngress.SetClassUDP 26 7 0 => 28 1\n",
      "table_add MyIngress.UDPlevel_7 MyIngress.CheckFeatureUDP 21 8 0 => 29 7 1\n",
      "table_add MyIngress.UDPlevel_8 MyIngress.CheckFeatureUDP 29 7 1 => 30 3 125\n",
      "table_add MyIngress.UDPlevel_9 MyIngress.SetClassUDP 30 3 1 => 31 0\n",
      "table_add MyIngress.UDPlevel_9 MyIngress.SetClassUDP 30 3 0 => 32 0\n",
      "table_add MyIngress.UDPlevel_8 MyIngress.CheckFeatureUDP 29 7 0 => 33 0 89\n",
      "table_add MyIngress.UDPlevel_9 MyIngress.SetClassUDP 33 0 1 => 34 0\n",
      "table_add MyIngress.UDPlevel_9 MyIngress.SetClassUDP 33 0 0 => 35 0\n",
      "table_add MyIngress.UDPlevel_5 MyIngress.CheckFeatureUDP 4 1 0 => 36 7 4\n",
      "table_add MyIngress.UDPlevel_6 MyIngress.CheckFeatureUDP 36 7 1 => 37 2 3\n",
      "table_add MyIngress.UDPlevel_7 MyIngress.CheckFeatureUDP 37 2 1 => 38 6 3\n",
      "table_add MyIngress.UDPlevel_8 MyIngress.CheckFeatureUDP 38 6 1 => 39 3 159\n",
      "table_add MyIngress.UDPlevel_9 MyIngress.SetClassUDP 39 3 1 => 40 1\n",
      "table_add MyIngress.UDPlevel_9 MyIngress.SetClassUDP 39 3 0 => 41 1\n",
      "table_add MyIngress.UDPlevel_8 MyIngress.SetClassUDP 38 6 0 => 42 0\n",
      "table_add MyIngress.UDPlevel_7 MyIngress.CheckFeatureUDP 37 2 0 => 43 2 8\n",
      "table_add MyIngress.UDPlevel_8 MyIngress.CheckFeatureUDP 43 2 1 => 44 1 10\n",
      "table_add MyIngress.UDPlevel_9 MyIngress.SetClassUDP 44 1 1 => 45 0\n",
      "table_add MyIngress.UDPlevel_9 MyIngress.SetClassUDP 44 1 0 => 46 1\n",
      "table_add MyIngress.UDPlevel_8 MyIngress.CheckFeatureUDP 43 2 0 => 47 1 12\n",
      "table_add MyIngress.UDPlevel_9 MyIngress.SetClassUDP 47 1 1 => 48 0\n",
      "table_add MyIngress.UDPlevel_9 MyIngress.SetClassUDP 47 1 0 => 49 1\n",
      "table_add MyIngress.UDPlevel_6 MyIngress.SetClassUDP 36 7 0 => 50 1\n",
      "table_add MyIngress.UDPlevel_4 MyIngress.CheckFeatureUDP 3 7 0 => 51 6 9\n",
      "table_add MyIngress.UDPlevel_5 MyIngress.CheckFeatureUDP 51 6 1 => 52 8 63\n",
      "table_add MyIngress.UDPlevel_6 MyIngress.SetClassUDP 52 8 1 => 53 1\n",
      "table_add MyIngress.UDPlevel_6 MyIngress.SetClassUDP 52 8 0 => 54 0\n",
      "table_add MyIngress.UDPlevel_5 MyIngress.CheckFeatureUDP 51 6 0 => 55 4 0\n",
      "table_add MyIngress.UDPlevel_6 MyIngress.CheckFeatureUDP 55 4 1 => 56 0 87\n",
      "table_add MyIngress.UDPlevel_7 MyIngress.CheckFeatureUDP 56 0 1 => 57 0 84\n",
      "table_add MyIngress.UDPlevel_8 MyIngress.SetClassUDP 57 0 1 => 58 0\n",
      "table_add MyIngress.UDPlevel_8 MyIngress.SetClassUDP 57 0 0 => 59 1\n",
      "table_add MyIngress.UDPlevel_7 MyIngress.SetClassUDP 56 0 0 => 60 0\n",
      "table_add MyIngress.UDPlevel_6 MyIngress.CheckFeatureUDP 55 4 0 => 61 6 28\n",
      "table_add MyIngress.UDPlevel_7 MyIngress.SetClassUDP 61 6 1 => 62 0\n",
      "table_add MyIngress.UDPlevel_7 MyIngress.SetClassUDP 61 6 0 => 63 1\n",
      "table_add MyIngress.UDPlevel_3 MyIngress.CheckFeatureUDP 2 0 0 => 64 3 62\n",
      "table_add MyIngress.UDPlevel_4 MyIngress.SetClassUDP 64 3 1 => 65 0\n",
      "table_add MyIngress.UDPlevel_4 MyIngress.CheckFeatureUDP 64 3 0 => 66 3 96\n",
      "table_add MyIngress.UDPlevel_5 MyIngress.CheckFeatureUDP 66 3 1 => 67 0 2735\n",
      "table_add MyIngress.UDPlevel_6 MyIngress.CheckFeatureUDP 67 0 1 => 68 4 0\n",
      "table_add MyIngress.UDPlevel_7 MyIngress.SetClassUDP 68 4 1 => 69 1\n",
      "table_add MyIngress.UDPlevel_7 MyIngress.CheckFeatureUDP 68 4 0 => 70 1 25\n",
      "table_add MyIngress.UDPlevel_8 MyIngress.CheckFeatureUDP 70 1 1 => 71 7 2\n",
      "table_add MyIngress.UDPlevel_9 MyIngress.SetClassUDP 71 7 1 => 72 0\n",
      "table_add MyIngress.UDPlevel_9 MyIngress.SetClassUDP 71 7 0 => 73 0\n",
      "table_add MyIngress.UDPlevel_8 MyIngress.SetClassUDP 70 1 0 => 74 1\n",
      "table_add MyIngress.UDPlevel_6 MyIngress.CheckFeatureUDP 67 0 0 => 75 4 2\n",
      "table_add MyIngress.UDPlevel_7 MyIngress.CheckFeatureUDP 75 4 1 => 76 1 12\n",
      "table_add MyIngress.UDPlevel_8 MyIngress.CheckFeatureUDP 76 1 1 => 77 8 1453\n",
      "table_add MyIngress.UDPlevel_9 MyIngress.SetClassUDP 77 8 1 => 78 0\n",
      "table_add MyIngress.UDPlevel_9 MyIngress.SetClassUDP 77 8 0 => 79 1\n",
      "table_add MyIngress.UDPlevel_8 MyIngress.SetClassUDP 76 1 0 => 80 1\n",
      "table_add MyIngress.UDPlevel_7 MyIngress.CheckFeatureUDP 75 4 0 => 81 7 10\n",
      "table_add MyIngress.UDPlevel_8 MyIngress.CheckFeatureUDP 81 7 1 => 82 8 927\n",
      "table_add MyIngress.UDPlevel_9 MyIngress.SetClassUDP 82 8 1 => 83 0\n",
      "table_add MyIngress.UDPlevel_9 MyIngress.SetClassUDP 82 8 0 => 84 1\n",
      "table_add MyIngress.UDPlevel_8 MyIngress.SetClassUDP 81 7 0 => 85 0\n",
      "table_add MyIngress.UDPlevel_5 MyIngress.CheckFeatureUDP 66 3 0 => 86 8 357\n",
      "table_add MyIngress.UDPlevel_6 MyIngress.CheckFeatureUDP 86 8 1 => 87 6 2\n",
      "table_add MyIngress.UDPlevel_7 MyIngress.CheckFeatureUDP 87 6 1 => 88 7 1\n",
      "table_add MyIngress.UDPlevel_8 MyIngress.CheckFeatureUDP 88 7 1 => 89 4 0\n",
      "table_add MyIngress.UDPlevel_9 MyIngress.SetClassUDP 89 4 1 => 90 0\n",
      "table_add MyIngress.UDPlevel_9 MyIngress.SetClassUDP 89 4 0 => 91 1\n",
      "table_add MyIngress.UDPlevel_8 MyIngress.SetClassUDP 88 7 0 => 92 0\n",
      "table_add MyIngress.UDPlevel_7 MyIngress.SetClassUDP 87 6 0 => 93 0\n",
      "table_add MyIngress.UDPlevel_6 MyIngress.SetClassUDP 86 8 0 => 94 1\n",
      "table_add MyIngress.UDPlevel_2 MyIngress.CheckFeatureUDP 1 4 0 => 95 1 6\n",
      "table_add MyIngress.UDPlevel_3 MyIngress.CheckFeatureUDP 95 1 1 => 96 7 22\n",
      "table_add MyIngress.UDPlevel_4 MyIngress.CheckFeatureUDP 96 7 1 => 97 4 16\n",
      "table_add MyIngress.UDPlevel_5 MyIngress.CheckFeatureUDP 97 4 1 => 98 0 377\n",
      "table_add MyIngress.UDPlevel_6 MyIngress.CheckFeatureUDP 98 0 1 => 99 1 1\n",
      "table_add MyIngress.UDPlevel_7 MyIngress.SetClassUDP 99 1 1 => 100 1\n",
      "table_add MyIngress.UDPlevel_7 MyIngress.CheckFeatureUDP 99 1 0 => 101 4 5\n",
      "table_add MyIngress.UDPlevel_8 MyIngress.CheckFeatureUDP 101 4 1 => 102 1 3\n",
      "table_add MyIngress.UDPlevel_9 MyIngress.SetClassUDP 102 1 1 => 103 1\n",
      "table_add MyIngress.UDPlevel_9 MyIngress.SetClassUDP 102 1 0 => 104 0\n",
      "table_add MyIngress.UDPlevel_8 MyIngress.CheckFeatureUDP 101 4 0 => 105 6 3\n",
      "table_add MyIngress.UDPlevel_9 MyIngress.SetClassUDP 105 6 1 => 106 0\n",
      "table_add MyIngress.UDPlevel_9 MyIngress.SetClassUDP 105 6 0 => 107 0\n",
      "table_add MyIngress.UDPlevel_6 MyIngress.CheckFeatureUDP 98 0 0 => 108 6 1\n",
      "table_add MyIngress.UDPlevel_7 MyIngress.CheckFeatureUDP 108 6 1 => 109 7 20\n",
      "table_add MyIngress.UDPlevel_8 MyIngress.CheckFeatureUDP 109 7 1 => 110 4 5\n",
      "table_add MyIngress.UDPlevel_9 MyIngress.SetClassUDP 110 4 1 => 111 0\n",
      "table_add MyIngress.UDPlevel_9 MyIngress.SetClassUDP 110 4 0 => 112 0\n",
      "table_add MyIngress.UDPlevel_8 MyIngress.CheckFeatureUDP 109 7 0 => 113 0 888\n",
      "table_add MyIngress.UDPlevel_9 MyIngress.SetClassUDP 113 0 1 => 114 0\n",
      "table_add MyIngress.UDPlevel_9 MyIngress.SetClassUDP 113 0 0 => 115 0\n",
      "table_add MyIngress.UDPlevel_7 MyIngress.CheckFeatureUDP 108 6 0 => 116 3 191\n",
      "table_add MyIngress.UDPlevel_8 MyIngress.CheckFeatureUDP 116 3 1 => 117 7 21\n",
      "table_add MyIngress.UDPlevel_9 MyIngress.SetClassUDP 117 7 1 => 118 0\n",
      "table_add MyIngress.UDPlevel_9 MyIngress.SetClassUDP 117 7 0 => 119 0\n",
      "table_add MyIngress.UDPlevel_8 MyIngress.SetClassUDP 116 3 0 => 120 0\n",
      "table_add MyIngress.UDPlevel_5 MyIngress.CheckFeatureUDP 97 4 0 => 121 7 2\n",
      "table_add MyIngress.UDPlevel_6 MyIngress.CheckFeatureUDP 121 7 1 => 122 6 3\n",
      "table_add MyIngress.UDPlevel_7 MyIngress.CheckFeatureUDP 122 6 1 => 123 8 48\n",
      "table_add MyIngress.UDPlevel_8 MyIngress.CheckFeatureUDP 123 8 1 => 124 4 27\n",
      "table_add MyIngress.UDPlevel_9 MyIngress.SetClassUDP 124 4 1 => 125 1\n",
      "table_add MyIngress.UDPlevel_9 MyIngress.SetClassUDP 124 4 0 => 126 0\n",
      "table_add MyIngress.UDPlevel_8 MyIngress.CheckFeatureUDP 123 8 0 => 127 6 2\n",
      "table_add MyIngress.UDPlevel_9 MyIngress.SetClassUDP 127 6 1 => 128 0\n",
      "table_add MyIngress.UDPlevel_9 MyIngress.SetClassUDP 127 6 0 => 129 0\n",
      "table_add MyIngress.UDPlevel_7 MyIngress.SetClassUDP 122 6 0 => 130 0\n",
      "table_add MyIngress.UDPlevel_6 MyIngress.CheckFeatureUDP 121 7 0 => 131 6 1\n",
      "table_add MyIngress.UDPlevel_7 MyIngress.CheckFeatureUDP 131 6 1 => 132 2 1\n",
      "table_add MyIngress.UDPlevel_8 MyIngress.CheckFeatureUDP 132 2 1 => 133 8 222\n",
      "table_add MyIngress.UDPlevel_9 MyIngress.SetClassUDP 133 8 1 => 134 0\n",
      "table_add MyIngress.UDPlevel_9 MyIngress.SetClassUDP 133 8 0 => 135 0\n",
      "table_add MyIngress.UDPlevel_8 MyIngress.SetClassUDP 132 2 0 => 136 1\n",
      "table_add MyIngress.UDPlevel_7 MyIngress.SetClassUDP 131 6 0 => 137 0\n",
      "table_add MyIngress.UDPlevel_4 MyIngress.CheckFeatureUDP 96 7 0 => 138 4 26\n",
      "table_add MyIngress.UDPlevel_5 MyIngress.CheckFeatureUDP 138 4 1 => 139 4 24\n",
      "table_add MyIngress.UDPlevel_6 MyIngress.CheckFeatureUDP 139 4 1 => 140 7 23\n",
      "table_add MyIngress.UDPlevel_7 MyIngress.SetClassUDP 140 7 1 => 141 1\n",
      "table_add MyIngress.UDPlevel_7 MyIngress.SetClassUDP 140 7 0 => 142 0\n",
      "table_add MyIngress.UDPlevel_6 MyIngress.CheckFeatureUDP 139 4 0 => 143 1 5\n",
      "table_add MyIngress.UDPlevel_7 MyIngress.SetClassUDP 143 1 1 => 144 0\n",
      "table_add MyIngress.UDPlevel_7 MyIngress.CheckFeatureUDP 143 1 0 => 145 6 1\n",
      "table_add MyIngress.UDPlevel_8 MyIngress.CheckFeatureUDP 145 6 1 => 146 8 222\n",
      "table_add MyIngress.UDPlevel_9 MyIngress.SetClassUDP 146 8 1 => 147 1\n",
      "table_add MyIngress.UDPlevel_9 MyIngress.SetClassUDP 146 8 0 => 148 1\n",
      "table_add MyIngress.UDPlevel_8 MyIngress.SetClassUDP 145 6 0 => 149 0\n",
      "table_add MyIngress.UDPlevel_5 MyIngress.SetClassUDP 138 4 0 => 150 0\n",
      "table_add MyIngress.UDPlevel_3 MyIngress.CheckFeatureUDP 95 1 0 => 151 6 1\n",
      "table_add MyIngress.UDPlevel_4 MyIngress.CheckFeatureUDP 151 6 1 => 152 8 151\n",
      "table_add MyIngress.UDPlevel_5 MyIngress.CheckFeatureUDP 152 8 1 => 153 4 36\n",
      "table_add MyIngress.UDPlevel_6 MyIngress.SetClassUDP 153 4 1 => 154 1\n",
      "table_add MyIngress.UDPlevel_6 MyIngress.SetClassUDP 153 4 0 => 155 0\n",
      "table_add MyIngress.UDPlevel_5 MyIngress.CheckFeatureUDP 152 8 0 => 156 0 5295\n",
      "table_add MyIngress.UDPlevel_6 MyIngress.CheckFeatureUDP 156 0 1 => 157 0 1661\n",
      "table_add MyIngress.UDPlevel_7 MyIngress.CheckFeatureUDP 157 0 1 => 158 4 30\n",
      "table_add MyIngress.UDPlevel_8 MyIngress.SetClassUDP 158 4 1 => 159 0\n",
      "table_add MyIngress.UDPlevel_8 MyIngress.CheckFeatureUDP 158 4 0 => 160 4 30\n",
      "table_add MyIngress.UDPlevel_9 MyIngress.SetClassUDP 160 4 1 => 161 1\n",
      "table_add MyIngress.UDPlevel_9 MyIngress.SetClassUDP 160 4 0 => 162 0\n",
      "table_add MyIngress.UDPlevel_7 MyIngress.SetClassUDP 157 0 0 => 163 0\n",
      "table_add MyIngress.UDPlevel_6 MyIngress.CheckFeatureUDP 156 0 0 => 164 8 341\n",
      "table_add MyIngress.UDPlevel_7 MyIngress.SetClassUDP 164 8 1 => 165 1\n",
      "table_add MyIngress.UDPlevel_7 MyIngress.SetClassUDP 164 8 0 => 166 0\n",
      "table_add MyIngress.UDPlevel_4 MyIngress.SetClassUDP 151 6 0 => 167 0\n"
     ]
    }
   ],
   "source": [
    "from io import StringIO\n",
    "from numbers import Integral\n",
    "\n",
    "import numpy as np\n",
    "import pandas\n",
    "import pickle \n",
    "import sklearn\n",
    "from sklearn import tree \n",
    "from sklearn.tree import export_text\n",
    "\n",
    "from sklearn.tree import _tree\n",
    "\n",
    "from sklearn.tree import DecisionTreeClassifier\n",
    "\n",
    "filename = 'final_rf_model_dos_udp.sav'\n",
    "rf = pickle.load(open(filename, 'rb'))\n",
    "\n",
    "i_tree = 0 \n",
    "\n",
    "global_id = 0\n",
    "\n",
    "def export_p4(decision_tree):\n",
    "    tree_ = decision_tree.tree_\n",
    "    class_names = decision_tree.classes_\n",
    "    right_child_fmt = \"{} {} <= {}\\n\"\n",
    "    left_child_fmt = \"{} {} >  {}\\n\"\n",
    "    truncation_fmt = \"{} {}\\n\"\n",
    "    feature_names_ = [\"{}\".format(i) for i in tree_.feature]  \n",
    "    export_text.report = \"\"\n",
    "    max_depth=10\n",
    "    spacing=3\n",
    "    decimals=2\n",
    "    show_weights=False\n",
    "\n",
    "    if isinstance(decision_tree, DecisionTreeClassifier):\n",
    "        value_fmt = \"{}{} weights: {}\\n\"\n",
    "        if not show_weights:\n",
    "            value_fmt = \"{}{}{}\\n\"\n",
    "    else:\n",
    "        value_fmt = \"{}{} value: {}\\n\"\n",
    "\n",
    "    def _add_leaf(value, class_name, indent, prevfeature, result, depth, previous_id):\n",
    "        global global_id\n",
    "        global i_tree \n",
    "        current_id = global_id\n",
    "\n",
    "        val = ''\n",
    "        is_classification = isinstance(decision_tree,\n",
    "                                       DecisionTreeClassifier)\n",
    "        if show_weights or not is_classification:\n",
    "            val = [\"{1:.{0}f}, \".format(decimals, v) for v in value]\n",
    "            val = '['+''.join(val)[:-2]+']'\n",
    "        if is_classification:\n",
    "            val += ' class: ' + str(class_name)\n",
    "        export_text.report += value_fmt.format(indent, '', val)\n",
    "        #print(\"table_add MyIngress.level_\", i_tree,\"_\", depth, \" \", \"MyIngress.SetClass\",i_tree,\" \", previous_id,\" \",prevfeature,\" \", result,\" \", \"=>\",\" \", current_id, \" \", int(float(class_name)), sep=\"\")\n",
    "        print(\"table_add MyIngress.UDPlevel_\", depth, \" \", \"MyIngress.SetClassUDP\",\" \", previous_id,\" \",prevfeature,\" \", result,\" \", \"=>\",\" \", current_id, \" \", int(float(class_name)), sep=\"\")\n",
    "\n",
    "    def print_tree_recurse(node, depth, prevfeature, result, previous_id):\n",
    "        indent = (\"|\" + (\" \" * spacing)) * depth\n",
    "        indent = indent[:-spacing] + \"-\" * spacing\n",
    "        global global_id\n",
    "        global i_tree \n",
    "        global_id = global_id + 1\n",
    "        current_id = global_id\n",
    "\n",
    "        value = None\n",
    "        if tree_.n_outputs == 1:\n",
    "            value = tree_.value[node][0]\n",
    "        else:\n",
    "            value = tree_.value[node].T[0]\n",
    "        class_name = np.argmax(value)\n",
    "\n",
    "        if (tree_.n_classes[0] != 1 and\n",
    "                tree_.n_outputs == 1):\n",
    "            class_name = class_names[class_name]\n",
    "\n",
    "        if depth <= max_depth+1:\n",
    "            info_fmt = \"\"\n",
    "            info_fmt_left = info_fmt\n",
    "            info_fmt_right = info_fmt\n",
    "\n",
    "            if tree_.feature[node] != _tree.TREE_UNDEFINED:\n",
    "                name = feature_names_[node]\n",
    "                threshold = tree_.threshold[node]\n",
    "                threshold = \"{1:.{0}f}\".format(decimals, threshold)\n",
    "                export_text.report += right_child_fmt.format(indent,\n",
    "                                                             name,\n",
    "                                                             threshold)\n",
    "                export_text.report += info_fmt_left\n",
    "                #print(\"table_add MyIngress.level_\", i_tree,\"_\", depth, \" MyIngress.CheckFeature \", previous_id, \" \", prevfeature, \" \", result, \" \", \"=>\", \" \", current_id, \" \", name,\" \", int(float(threshold)), sep='')\n",
    "                print(\"table_add MyIngress.UDPlevel_\", depth, \" MyIngress.CheckFeatureUDP \", previous_id, \" \", prevfeature, \" \", result, \" \", \"=>\", \" \", current_id, \" \", name,\" \", int(float(threshold)), sep='')\n",
    "\n",
    "                \n",
    "                print_tree_recurse(tree_.children_left[node], depth+1, name, 1, current_id)\n",
    "\n",
    "                export_text.report += left_child_fmt.format(indent,\n",
    "                                                            name,\n",
    "                                                            threshold)\n",
    "                export_text.report += info_fmt_right\n",
    "           #     print(\"level\", depth, \"checkfeature\", prevfeature, result, \"=>\", name, threshold)\n",
    " \n",
    "\n",
    "                print_tree_recurse(tree_.children_right[node], depth+1, name, 0, current_id)\n",
    "            else:  # leaf\n",
    "                _add_leaf(value, class_name, indent, prevfeature, result, depth, previous_id)\n",
    "        else:\n",
    "            subtree_depth = _compute_depth(tree_, node)\n",
    "            if subtree_depth == 1:\n",
    "                _add_leaf(value, class_name, indent, prevfeature, result, depth, previous_id)\n",
    "            else:\n",
    "                trunc_report = 'truncated branch of depth %d' % subtree_depth\n",
    "                export_text.report += truncation_fmt.format(indent,\n",
    "                                                            trunc_report)\n",
    "\n",
    "    print_tree_recurse(0, 1, 0, 1, global_id)\n",
    "\n",
    "\n",
    "for tree_in_forest in rf.estimators_:\n",
    "  #r = export_text(tree_in_forest)\n",
    "  #print(r)\n",
    "  global i_tree\n",
    "\n",
    "  i_tree = i_tree + 1\n",
    "  export_p4(tree_in_forest)"
   ]
  },
  {
   "cell_type": "markdown",
   "metadata": {},
   "source": [
    "# Now predicting about separatly processes data"
   ]
  },
  {
   "cell_type": "code",
   "execution_count": 143,
   "metadata": {},
   "outputs": [],
   "source": [
    "current_path = os.getcwd()\n",
    "\n",
    "file1='dataset/Benign_Test_1.csv'\n",
    "benign = pd.read_csv(file1)\n",
    "benign = benign[(benign['proto_type'] == 17)]\n",
    "\n",
    "file2='dataset/UDPFlood_Test_2.csv'\n",
    "udp = pd.read_csv(file2)\n",
    "file3='dataset/UDPFrag_Test.csv'\n",
    "udp_frag = pd.read_csv(file3)\n",
    "\n",
    "benign['attack'] = 0\n",
    "udp['attack'] = 1\n",
    "udp_frag['attack'] = 1"
   ]
  },
  {
   "cell_type": "code",
   "execution_count": 144,
   "metadata": {},
   "outputs": [
    {
     "name": "stdout",
     "output_type": "stream",
     "text": [
      "Index(['ts', 'srcip', 'dstip', 'srcport', 'dstport', 'proto_type', 'sbytes',\n",
      "       'dbytes', 'flow_bytes', 'rate', 'srate', 'drate', 'spkts', 'dpkts',\n",
      "       'ttl', 'iat', 'max_iat', 'min_iat', 'total_duration',\n",
      "       'N_IN_Conn_P_Src_IP', 'N_IN_Conn_P_Dst_IP', 'avg_pkt_len', 'state_con',\n",
      "       'state_int', 'state_rst', 'fin_flag_number', 'syn_flag_number',\n",
      "       'psh_flag_number', 'ack_flag_number', 'urg_flag_number',\n",
      "       'ece_flag_number', 'cwr_flag_number', 'attack'],\n",
      "      dtype='object')\n"
     ]
    }
   ],
   "source": [
    "data = pd.concat([benign])\n",
    "print(data.columns)"
   ]
  },
  {
   "cell_type": "code",
   "execution_count": 145,
   "metadata": {},
   "outputs": [
    {
     "data": {
      "text/plain": [
       "31      214\n",
       "53      230\n",
       "61      218\n",
       "92      230\n",
       "95      336\n",
       "97      300\n",
       "98      609\n",
       "99      999\n",
       "100    1389\n",
       "101     388\n",
       "Name: sbytes, dtype: int64"
      ]
     },
     "execution_count": 145,
     "metadata": {},
     "output_type": "execute_result"
    }
   ],
   "source": [
    "benign['sbytes'].head(10)"
   ]
  },
  {
   "cell_type": "markdown",
   "metadata": {},
   "source": [
    "# Test Benign"
   ]
  },
  {
   "cell_type": "code",
   "execution_count": 146,
   "metadata": {},
   "outputs": [
    {
     "name": "stdout",
     "output_type": "stream",
     "text": [
      "Accuracy: 0.9407407407407408\n",
      "Precision:  [1. 0.]\n",
      "Recall:  [0.94074074 0.        ]\n",
      "F1-score:  [0.96946565 0.        ]\n",
      "Support:  [135   0]\n"
     ]
    },
    {
     "name": "stderr",
     "output_type": "stream",
     "text": [
      "/Users/mahrukh/anaconda3/lib/python3.11/site-packages/sklearn/metrics/_classification.py:1344: UndefinedMetricWarning: Recall and F-score are ill-defined and being set to 0.0 in labels with no true samples. Use `zero_division` parameter to control this behavior.\n",
      "  _warn_prf(average, modifier, msg_start, len(result))\n"
     ]
    }
   ],
   "source": [
    "from sklearn.metrics import classification_report\n",
    "from sklearn.metrics import precision_recall_fscore_support\n",
    "\n",
    "data = pd.concat([benign])\n",
    "best_features = data[features]\n",
    "target_features = data[['attack']]\n",
    "prediction = rf.predict(best_features)\n",
    "print(\"Accuracy:\", 1- sum(prediction)/len(prediction))\n",
    "# Calculate precision, recall, F1-score, and support\n",
    "precision, recall, fscore, support = precision_recall_fscore_support(target_features, prediction)\n",
    "# Print the results for each class\n",
    "print(\"Precision: \", precision)\n",
    "print(\"Recall: \", recall)\n",
    "print(\"F1-score: \", fscore)\n",
    "print(\"Support: \", support)"
   ]
  },
  {
   "cell_type": "markdown",
   "metadata": {},
   "source": [
    "# Test UDP Flood"
   ]
  },
  {
   "cell_type": "code",
   "execution_count": 147,
   "metadata": {},
   "outputs": [
    {
     "name": "stdout",
     "output_type": "stream",
     "text": [
      "Accuracy: 0.9963285910968334\n",
      "Precision:  [0. 1.]\n",
      "Recall:  [0.         0.99632859]\n",
      "F1-score:  [0.         0.99816092]\n",
      "Support:  [    0 13074]\n"
     ]
    },
    {
     "name": "stderr",
     "output_type": "stream",
     "text": [
      "/Users/mahrukh/anaconda3/lib/python3.11/site-packages/sklearn/metrics/_classification.py:1344: UndefinedMetricWarning: Recall and F-score are ill-defined and being set to 0.0 in labels with no true samples. Use `zero_division` parameter to control this behavior.\n",
      "  _warn_prf(average, modifier, msg_start, len(result))\n"
     ]
    }
   ],
   "source": [
    "data = pd.concat([udp])\n",
    "best_features = data[features]\n",
    "target_features = data[['attack']]\n",
    "prediction = rf.predict(best_features)\n",
    "print(\"Accuracy:\",  sum(prediction)/len(prediction))\n",
    "# Calculate precision, recall, F1-score, and support\n",
    "precision, recall, fscore, support = precision_recall_fscore_support(target_features, prediction)\n",
    "# Print the results for each class\n",
    "print(\"Precision: \", precision)\n",
    "print(\"Recall: \", recall)\n",
    "print(\"F1-score: \", fscore)\n",
    "print(\"Support: \", support)"
   ]
  },
  {
   "cell_type": "markdown",
   "metadata": {},
   "source": [
    "# Test UDP Frag"
   ]
  },
  {
   "cell_type": "code",
   "execution_count": 148,
   "metadata": {},
   "outputs": [
    {
     "name": "stdout",
     "output_type": "stream",
     "text": [
      "Accuracy: 0.9961977186311787\n",
      "Precision:  [0. 1.]\n",
      "Recall:  [0.         0.99619772]\n",
      "F1-score:  [0.         0.99809524]\n",
      "Support:  [  0 526]\n"
     ]
    },
    {
     "name": "stderr",
     "output_type": "stream",
     "text": [
      "/Users/mahrukh/anaconda3/lib/python3.11/site-packages/sklearn/metrics/_classification.py:1344: UndefinedMetricWarning: Recall and F-score are ill-defined and being set to 0.0 in labels with no true samples. Use `zero_division` parameter to control this behavior.\n",
      "  _warn_prf(average, modifier, msg_start, len(result))\n"
     ]
    }
   ],
   "source": [
    "data = pd.concat([udp_frag])\n",
    "best_features = data[features]\n",
    "target_features = data[['attack']]\n",
    "prediction = rf.predict(best_features)\n",
    "print(\"Accuracy:\",  sum(prediction)/len(prediction))\n",
    "# Calculate precision, recall, F1-score, and support\n",
    "precision, recall, fscore, support = precision_recall_fscore_support(target_features, prediction)\n",
    "# Print the results for each class\n",
    "print(\"Precision: \", precision)\n",
    "print(\"Recall: \", recall)\n",
    "print(\"F1-score: \", fscore)\n",
    "print(\"Support: \", support)"
   ]
  }
 ],
 "metadata": {
  "kernelspec": {
   "display_name": "Python 3 (ipykernel)",
   "language": "python",
   "name": "python3"
  },
  "language_info": {
   "codemirror_mode": {
    "name": "ipython",
    "version": 3
   },
   "file_extension": ".py",
   "mimetype": "text/x-python",
   "name": "python",
   "nbconvert_exporter": "python",
   "pygments_lexer": "ipython3",
   "version": "3.11.8"
  }
 },
 "nbformat": 4,
 "nbformat_minor": 4
}
