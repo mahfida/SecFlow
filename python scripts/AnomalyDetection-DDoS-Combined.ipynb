{
 "cells": [
  {
   "cell_type": "code",
   "execution_count": 47,
   "metadata": {},
   "outputs": [],
   "source": [
    "'''Main'''\n",
    "import numpy as np\n",
    "import pandas as pd\n",
    "import os\n",
    "\n",
    "'''Data Viz'''\n",
    "import matplotlib.pyplot as plt\n",
    "import seaborn as sns\n",
    "color = sns.color_palette()\n",
    "import matplotlib as mpl\n",
    "\n",
    "%matplotlib inline\n",
    "\n",
    "'''Data Prep'''\n",
    "from sklearn import preprocessing as pp \n",
    "from sklearn.preprocessing import LabelEncoder, StandardScaler\n",
    "from scipy.stats import pearsonr \n",
    "from sklearn.model_selection import train_test_split\n",
    "from sklearn.model_selection import StratifiedKFold \n",
    "from sklearn.metrics import log_loss \n",
    "from sklearn.metrics import precision_recall_curve, average_precision_score \n",
    "from sklearn.metrics import roc_curve, auc, roc_auc_score\n",
    "from sklearn.metrics import confusion_matrix, classification_report \n",
    "from statistics import mean, stdev\n",
    "\n",
    "from sklearn.ensemble import RandomForestRegressor\n",
    "from sklearn.feature_selection import SelectFromModel\n",
    "from sklearn.ensemble import RandomForestClassifier\n",
    "from sklearn.naive_bayes import GaussianNB \n",
    "from sklearn.neighbors import KNeighborsClassifier \n",
    "from sklearn.tree import DecisionTreeClassifier "
   ]
  },
  {
   "cell_type": "markdown",
   "metadata": {},
   "source": [
    "# Load TCP/UDP Benign and Malicious CIC2023 Flows"
   ]
  },
  {
   "cell_type": "code",
   "execution_count": 75,
   "metadata": {},
   "outputs": [],
   "source": [
    "# Acquire Data\n",
    "# Data here has all features\n",
    "current_path = os.getcwd()\n",
    "\n",
    "# BENIGN DATA FILES ***************************************\n",
    "file1='dataset/Benign.csv'\n",
    "benign = pd.read_csv(file1)\n",
    "benign['attack'] = 0\n",
    "\n",
    "# DDOS-VOLUMETRIC ATTACK ***********************************\n",
    "file2='dataset/TCPFlood.csv'\n",
    "file3='dataset/UDPFlood.csv'\n",
    "udp = pd.read_csv(file2)\n",
    "tcp = pd.read_csv(file3)\n",
    "udp['attack'] = 1\n",
    "tcp['attack'] = 1\n",
    "\n",
    "# DDOS-TRANSPORT PROTOCOL VULNERABILITIES *******************\n",
    "file4='dataset/ACKFrag.csv'\n",
    "file5='dataset/SYN.csv'\n",
    "file6='dataset/RSTFIN.csv'\n",
    "file7='dataset/PUSHACK.csv'\n",
    "file8='dataset/UDPFrag.csv'\n",
    "\n",
    "ack = pd.read_csv(file4)\n",
    "syn = pd.read_csv(file5)\n",
    "rst = pd.read_csv(file6)\n",
    "psh = pd.read_csv(file7)\n",
    "udp_frag = pd.read_csv(file8)\n",
    "\n",
    "ack['attack'] = 1\n",
    "syn['attack'] = 1\n",
    "rst['attack'] = 1\n",
    "psh['attack'] = 1\n",
    "udp_frag['attack'] = 1\n",
    "\n",
    "# DDOS-APPLICATION PROTOCOL VULNERABILITIES *******************\n",
    "file91='dataset/HTTPFlood.csv'\n",
    "file92='dataset/Slowloris.csv'\n",
    "http = pd.read_csv(file91)\n",
    "slow = pd.read_csv(file92)\n",
    "http['attack'] = 1\n",
    "slow['attack'] = 1\n",
    "## CONCATE ALL THE RECORDS ************************************\n",
    "frames = [benign, \n",
    "          tcp, udp,\n",
    "          syn, rst, ack, psh, \n",
    "          udp_frag,\n",
    "          http, slow]\n",
    "\n",
    "data = pd.concat(frames)\n",
    "data['type'] = data['proto_type'].apply(lambda x: 0 if x > 6 else 1)"
   ]
  },
  {
   "cell_type": "code",
   "execution_count": 76,
   "metadata": {},
   "outputs": [
    {
     "name": "stdout",
     "output_type": "stream",
     "text": [
      "Shape of data:  (388251, 35)\n",
      "Attack and Benign Records:  attack\n",
      "1    292282\n",
      "0     95969\n",
      "Name: count, dtype: int64\n"
     ]
    }
   ],
   "source": [
    "# Size of the data\n",
    "print(\"Shape of data: \", data.shape)\n",
    "# Attack wise size\n",
    "print(\"Attack and Benign Records: \", data[\"attack\"].value_counts())"
   ]
  },
  {
   "cell_type": "code",
   "execution_count": 77,
   "metadata": {},
   "outputs": [
    {
     "data": {
      "text/plain": [
       "Index(['ts', 'srcip', 'dstip', 'srcport', 'dstport', 'proto_type', 'sbytes',\n",
       "       'dbytes', 'flow_bytes', 'rate', 'srate', 'drate', 'spkts', 'dpkts',\n",
       "       'ttl', 'iat', 'max_iat', 'min_iat', 'total_duration',\n",
       "       'N_IN_Conn_P_Src_IP', 'N_IN_Conn_P_Dst_IP', 'avg_pkt_len', 'state_con',\n",
       "       'state_int', 'state_rst', 'fin_flag_number', 'syn_flag_number',\n",
       "       'psh_flag_number', 'ack_flag_number', 'urg_flag_number',\n",
       "       'ece_flag_number', 'cwr_flag_number', 'attack', 'x', 'type'],\n",
       "      dtype='object')"
      ]
     },
     "execution_count": 77,
     "metadata": {},
     "output_type": "execute_result"
    }
   ],
   "source": [
    "data.columns"
   ]
  },
  {
   "cell_type": "markdown",
   "metadata": {},
   "source": [
    "# Select parameters based on the model i.e. with or without time based features"
   ]
  },
  {
   "cell_type": "code",
   "execution_count": 78,
   "metadata": {},
   "outputs": [],
   "source": [
    "# Features according to Importance\n",
    "features =['flow_bytes','srate','drate', 'type',\n",
    "        'ttl','max_iat',\n",
    "        'N_IN_Conn_P_Src_IP', 'N_IN_Conn_P_Dst_IP', 'avg_pkt_len',\n",
    "        'state_con','state_int', 'state_rst', \n",
    "        'fin_flag_number', 'syn_flag_number',\n",
    "        'psh_flag_number', 'ack_flag_number', \n",
    "        #'urg_flag_number','ece_flag_number', \n",
    "        #'cwr_flag_number'\n",
    "          ]\n",
    "best_features = data[features] \n",
    "target_features = data[['attack']]"
   ]
  },
  {
   "cell_type": "markdown",
   "metadata": {},
   "source": [
    "# Split Dataset into X and Y"
   ]
  },
  {
   "cell_type": "code",
   "execution_count": 79,
   "metadata": {},
   "outputs": [],
   "source": [
    "# Split of  predictors and response variable\n",
    "X= best_features\n",
    "y= target_features"
   ]
  },
  {
   "cell_type": "markdown",
   "metadata": {},
   "source": [
    "# Use StratifiedKFold with K=10"
   ]
  },
  {
   "cell_type": "code",
   "execution_count": 80,
   "metadata": {},
   "outputs": [],
   "source": [
    "# Create  classifier object.\n",
    "rf = RandomForestClassifier(n_estimators = 1, n_jobs=2, random_state=0, max_depth=10)  \n",
    "n_splits = 10\n",
    "# Create StratifiedKFold object.\n",
    "skf = StratifiedKFold(n_splits=10, shuffle=True, random_state=1)\n",
    "accu_stratified = []\n",
    "conf_matrices = []  # Store confusion matrices\n",
    "per_class_accuracies = [] "
   ]
  },
  {
   "cell_type": "code",
   "execution_count": 81,
   "metadata": {
    "scrolled": true
   },
   "outputs": [
    {
     "name": "stderr",
     "output_type": "stream",
     "text": [
      "/var/folders/m0/t3_0v49x6v9gdbz4l37dhs580000gn/T/ipykernel_23711/1092353343.py:5: DataConversionWarning: A column-vector y was passed when a 1d array was expected. Please change the shape of y to (n_samples,), for example using ravel().\n",
      "  rf.fit(x_train_fold, y_train_fold)\n",
      "/var/folders/m0/t3_0v49x6v9gdbz4l37dhs580000gn/T/ipykernel_23711/1092353343.py:5: DataConversionWarning: A column-vector y was passed when a 1d array was expected. Please change the shape of y to (n_samples,), for example using ravel().\n",
      "  rf.fit(x_train_fold, y_train_fold)\n",
      "/var/folders/m0/t3_0v49x6v9gdbz4l37dhs580000gn/T/ipykernel_23711/1092353343.py:5: DataConversionWarning: A column-vector y was passed when a 1d array was expected. Please change the shape of y to (n_samples,), for example using ravel().\n",
      "  rf.fit(x_train_fold, y_train_fold)\n",
      "/var/folders/m0/t3_0v49x6v9gdbz4l37dhs580000gn/T/ipykernel_23711/1092353343.py:5: DataConversionWarning: A column-vector y was passed when a 1d array was expected. Please change the shape of y to (n_samples,), for example using ravel().\n",
      "  rf.fit(x_train_fold, y_train_fold)\n",
      "/var/folders/m0/t3_0v49x6v9gdbz4l37dhs580000gn/T/ipykernel_23711/1092353343.py:5: DataConversionWarning: A column-vector y was passed when a 1d array was expected. Please change the shape of y to (n_samples,), for example using ravel().\n",
      "  rf.fit(x_train_fold, y_train_fold)\n",
      "/var/folders/m0/t3_0v49x6v9gdbz4l37dhs580000gn/T/ipykernel_23711/1092353343.py:5: DataConversionWarning: A column-vector y was passed when a 1d array was expected. Please change the shape of y to (n_samples,), for example using ravel().\n",
      "  rf.fit(x_train_fold, y_train_fold)\n",
      "/var/folders/m0/t3_0v49x6v9gdbz4l37dhs580000gn/T/ipykernel_23711/1092353343.py:5: DataConversionWarning: A column-vector y was passed when a 1d array was expected. Please change the shape of y to (n_samples,), for example using ravel().\n",
      "  rf.fit(x_train_fold, y_train_fold)\n",
      "/var/folders/m0/t3_0v49x6v9gdbz4l37dhs580000gn/T/ipykernel_23711/1092353343.py:5: DataConversionWarning: A column-vector y was passed when a 1d array was expected. Please change the shape of y to (n_samples,), for example using ravel().\n",
      "  rf.fit(x_train_fold, y_train_fold)\n",
      "/var/folders/m0/t3_0v49x6v9gdbz4l37dhs580000gn/T/ipykernel_23711/1092353343.py:5: DataConversionWarning: A column-vector y was passed when a 1d array was expected. Please change the shape of y to (n_samples,), for example using ravel().\n",
      "  rf.fit(x_train_fold, y_train_fold)\n",
      "/var/folders/m0/t3_0v49x6v9gdbz4l37dhs580000gn/T/ipykernel_23711/1092353343.py:5: DataConversionWarning: A column-vector y was passed when a 1d array was expected. Please change the shape of y to (n_samples,), for example using ravel().\n",
      "  rf.fit(x_train_fold, y_train_fold)\n"
     ]
    }
   ],
   "source": [
    "# Create model with StratifiedKFold   \n",
    "for train_index, test_index in skf.split(X, y):\n",
    "    x_train_fold, x_test_fold = X.iloc[train_index], X.iloc[test_index]\n",
    "    y_train_fold, y_test_fold = y.iloc[train_index], y.iloc[test_index]\n",
    "    rf.fit(x_train_fold, y_train_fold)\n",
    "    #accu_stratified.append(rf.score(x_test_fold, y_test_fold))\n",
    "\n",
    "    # Compute confusion matrix\n",
    "    conf_matrix = confusion_matrix(y_test_fold,rf.predict(x_test_fold))\n",
    "    conf_matrices.append(conf_matrix)\n",
    "    \n",
    "    # Compute per-class accuracies\n",
    "    per_class_accuracy = conf_matrix.diagonal() / conf_matrix.sum(axis=1)\n",
    "    per_class_accuracies.append(per_class_accuracy)\n",
    "\n",
    "# Convert lists to numpy arrays for easier manipulation\n",
    "conf_matrices = np.array(conf_matrices)\n",
    "per_class_accuracies = np.array(per_class_accuracies)\n"
   ]
  },
  {
   "cell_type": "code",
   "execution_count": 82,
   "metadata": {},
   "outputs": [
    {
     "name": "stdout",
     "output_type": "stream",
     "text": [
      "Accuracy of Attack Records:  [0.96967802 0.94904658 0.9863499  0.96957383 0.97718037 0.96290507\n",
      " 0.97811816 0.97592998 0.97947275 0.98395165]\n",
      "\n",
      "Median Accuracy of Attack Records: 97.65551734917162 %\n",
      "\n",
      "Standard Deviation of Attack Records: 0.011006423277625793\n",
      "Accuracy of Benign Records:  [0.96705327 0.95788285 0.94874778 0.96866019 0.96934446 0.96681265\n",
      " 0.97327905 0.95374299 0.95887505 0.94163331]\n",
      "\n",
      "Median Accuracy of Benign Records: 96.28438483645819 %\n",
      "\n",
      "Standard Deviation of Benign Records: 0.010219913196943221\n"
     ]
    },
    {
     "data": {
      "image/png": "[encoded data removed]",
      "text/plain": [
       "<Figure size 1000x600 with 1 Axes>"
      ]
     },
     "metadata": {},
     "output_type": "display_data"
    }
   ],
   "source": [
    "# Plotting per-class accuracies\n",
    "\n",
    "plt.figure(figsize=(10, 6))\n",
    "for i, class_accuracy in enumerate(per_class_accuracies.T, 1):\n",
    "    if(i==1):\n",
    "        plt.plot(range(1, n_splits + 1), class_accuracy, marker='o', label=f'Benign', color='green',  linestyle='dashed', markersize=10)\n",
    "        print(\"Accuracy of Attack Records: \", class_accuracy)\n",
    "        print('\\nMedian Accuracy of Attack Records:', np.median(class_accuracy)*100, '%')\n",
    "        print('\\nStandard Deviation of Attack Records:', stdev(class_accuracy))\n",
    "    else:\n",
    "        plt.plot(range(1, n_splits + 1), class_accuracy, marker='*', label=f'Attack', color='red',  linestyle='dotted', markersize=10)  \n",
    "        print(\"Accuracy of Benign Records: \", class_accuracy)\n",
    "        print('\\nMedian Accuracy of Benign Records:', np.median(class_accuracy)*100, '%')\n",
    "        print('\\nStandard Deviation of Benign Records:', stdev(class_accuracy))\n",
    "    \n",
    "plt.title('')\n",
    "plt.xlabel('Fold', fontsize=16)\n",
    "plt.ylabel('Accuracy', fontsize=16)\n",
    "plt.xticks(range(1, n_splits + 1))\n",
    "plt.tick_params(axis='both', which='major', labelsize=16)\n",
    "plt.tick_params(axis='both', which='minor', labelsize=16)\n",
    "plt.legend()\n",
    "plt.grid(True)\n",
    "# Save the plot as a PNG file\n",
    "plt.savefig('StratifiedKFold_5Tree.png', bbox_inches='tight')\n",
    "plt.show()"
   ]
  },
  {
   "cell_type": "markdown",
   "metadata": {},
   "source": [
    "# Training model on the whole dataset"
   ]
  },
  {
   "cell_type": "code",
   "execution_count": 83,
   "metadata": {
    "scrolled": true
   },
   "outputs": [
    {
     "name": "stderr",
     "output_type": "stream",
     "text": [
      "/var/folders/m0/t3_0v49x6v9gdbz4l37dhs580000gn/T/ipykernel_23711/233669711.py:5: DataConversionWarning: A column-vector y was passed when a 1d array was expected. Please change the shape of y to (n_samples,), for example using ravel().\n",
      "  rf.fit(X, y)\n"
     ]
    },
    {
     "data": {
      "text/html": [
       "<style>#sk-container-id-6 {color: black;background-color: white;}#sk-container-id-6 pre{padding: 0;}#sk-container-id-6 div.sk-toggleable {background-color: white;}#sk-container-id-6 label.sk-toggleable__label {cursor: pointer;display: block;width: 100%;margin-bottom: 0;padding: 0.3em;box-sizing: border-box;text-align: center;}#sk-container-id-6 label.sk-toggleable__label-arrow:before {content: \"▸\";float: left;margin-right: 0.25em;color: #696969;}#sk-container-id-6 label.sk-toggleable__label-arrow:hover:before {color: black;}#sk-container-id-6 div.sk-estimator:hover label.sk-toggleable__label-arrow:before {color: black;}#sk-container-id-6 div.sk-toggleable__content {max-height: 0;max-width: 0;overflow: hidden;text-align: left;background-color: #f0f8ff;}#sk-container-id-6 div.sk-toggleable__content pre {margin: 0.2em;color: black;border-radius: 0.25em;background-color: #f0f8ff;}#sk-container-id-6 input.sk-toggleable__control:checked~div.sk-toggleable__content {max-height: 200px;max-width: 100%;overflow: auto;}#sk-container-id-6 input.sk-toggleable__control:checked~label.sk-toggleable__label-arrow:before {content: \"▾\";}#sk-container-id-6 div.sk-estimator input.sk-toggleable__control:checked~label.sk-toggleable__label {background-color: #d4ebff;}#sk-container-id-6 div.sk-label input.sk-toggleable__control:checked~label.sk-toggleable__label {background-color: #d4ebff;}#sk-container-id-6 input.sk-hidden--visually {border: 0;clip: rect(1px 1px 1px 1px);clip: rect(1px, 1px, 1px, 1px);height: 1px;margin: -1px;overflow: hidden;padding: 0;position: absolute;width: 1px;}#sk-container-id-6 div.sk-estimator {font-family: monospace;background-color: #f0f8ff;border: 1px dotted black;border-radius: 0.25em;box-sizing: border-box;margin-bottom: 0.5em;}#sk-container-id-6 div.sk-estimator:hover {background-color: #d4ebff;}#sk-container-id-6 div.sk-parallel-item::after {content: \"\";width: 100%;border-bottom: 1px solid gray;flex-grow: 1;}#sk-container-id-6 div.sk-label:hover label.sk-toggleable__label {background-color: #d4ebff;}#sk-container-id-6 div.sk-serial::before {content: \"\";position: absolute;border-left: 1px solid gray;box-sizing: border-box;top: 0;bottom: 0;left: 50%;z-index: 0;}#sk-container-id-6 div.sk-serial {display: flex;flex-direction: column;align-items: center;background-color: white;padding-right: 0.2em;padding-left: 0.2em;position: relative;}#sk-container-id-6 div.sk-item {position: relative;z-index: 1;}#sk-container-id-6 div.sk-parallel {display: flex;align-items: stretch;justify-content: center;background-color: white;position: relative;}#sk-container-id-6 div.sk-item::before, #sk-container-id-6 div.sk-parallel-item::before {content: \"\";position: absolute;border-left: 1px solid gray;box-sizing: border-box;top: 0;bottom: 0;left: 50%;z-index: -1;}#sk-container-id-6 div.sk-parallel-item {display: flex;flex-direction: column;z-index: 1;position: relative;background-color: white;}#sk-container-id-6 div.sk-parallel-item:first-child::after {align-self: flex-end;width: 50%;}#sk-container-id-6 div.sk-parallel-item:last-child::after {align-self: flex-start;width: 50%;}#sk-container-id-6 div.sk-parallel-item:only-child::after {width: 0;}#sk-container-id-6 div.sk-dashed-wrapped {border: 1px dashed gray;margin: 0 0.4em 0.5em 0.4em;box-sizing: border-box;padding-bottom: 0.4em;background-color: white;}#sk-container-id-6 div.sk-label label {font-family: monospace;font-weight: bold;display: inline-block;line-height: 1.2em;}#sk-container-id-6 div.sk-label-container {text-align: center;}#sk-container-id-6 div.sk-container {/* jupyter's `normalize.less` sets `[hidden] { display: none; }` but bootstrap.min.css set `[hidden] { display: none !important; }` so we also need the `!important` here to be able to override the default hidden behavior on the sphinx rendered scikit-learn.org. See: https://github.com/scikit-learn/scikit-learn/issues/21755 */display: inline-block !important;position: relative;}#sk-container-id-6 div.sk-text-repr-fallback {display: none;}</style><div id=\"sk-container-id-6\" class=\"sk-top-container\"><div class=\"sk-text-repr-fallback\"><pre>RandomForestClassifier(max_depth=10, n_estimators=1, n_jobs=2, random_state=0)</pre><b>In a Jupyter environment, please rerun this cell to show the HTML representation or trust the notebook. <br />On GitHub, the HTML representation is unable to render, please try loading this page with nbviewer.org.</b></div><div class=\"sk-container\" hidden><div class=\"sk-item\"><div class=\"sk-estimator sk-toggleable\"><input class=\"sk-toggleable__control sk-hidden--visually\" id=\"sk-estimator-id-6\" type=\"checkbox\" checked><label for=\"sk-estimator-id-6\" class=\"sk-toggleable__label sk-toggleable__label-arrow\">RandomForestClassifier</label><div class=\"sk-toggleable__content\"><pre>RandomForestClassifier(max_depth=10, n_estimators=1, n_jobs=2, random_state=0)</pre></div></div></div></div></div>"
      ],
      "text/plain": [
       "RandomForestClassifier(max_depth=10, n_estimators=1, n_jobs=2, random_state=0)"
      ]
     },
     "execution_count": 83,
     "metadata": {},
     "output_type": "execute_result"
    }
   ],
   "source": [
    "from sklearn.ensemble import RandomForestClassifier\n",
    "from sklearn.ensemble import RandomForestRegressor\n",
    "from sklearn.feature_selection import SelectFromModel\n",
    "rf = RandomForestClassifier(n_estimators = 1, n_jobs=2, random_state=0, max_depth=10)\n",
    "rf.fit(X, y)"
   ]
  },
  {
   "cell_type": "markdown",
   "metadata": {},
   "source": [
    "# Mean Decrease of Accuracy of the Parameters"
   ]
  },
  {
   "cell_type": "code",
   "execution_count": 84,
   "metadata": {},
   "outputs": [
    {
     "name": "stdout",
     "output_type": "stream",
     "text": [
      "[0.3721962602027483, 0.0716274285452502, 0.12611013392027362, 0.03915818230534513, 0.0669367614297794, 0.02509881397347133, 0.012198796855847733, 0.25505522209553927, 0.022545180484743063, 0.0, 0.0007697903931348342, 2.570055585194883e-05, 2.3187606238162877e-05, 0.0009307432495653061, 8.457761989651586e-05, 0.007239220762315264]\n"
     ]
    },
    {
     "data": {
      "image/png": "[encoded data removed]",
      "text/plain": [
       "<Figure size 1000x600 with 1 Axes>"
      ]
     },
     "metadata": {},
     "output_type": "display_data"
    }
   ],
   "source": [
    "best_features.rename(columns={\"N_IN_Conn_P_Src_IP\": \"N_IN_Conn_Src_IP\", \"N_IN_Conn_P_Dst_IP\": \"N_IN_Conn_Dst_IP\"})\n",
    "labels = best_features.columns\n",
    "\n",
    "importances = list(rf.feature_importances_)\n",
    "print(importances)\n",
    "colors = (0.2, # redness\n",
    "         0.4, # greenness\n",
    "         0.2, # blueness\n",
    "         0.6 # transparency\n",
    "         ) \n",
    "# Sort feature importances in descending order\n",
    "sorted_indices = np.argsort(importances)[::-1]\n",
    "sorted_list =[importances[i] for i in sorted_indices]\n",
    "# Plot feature importances\n",
    "plt.figure(figsize=(10, 6))\n",
    "plt.title('')\n",
    "plt.barh(range(X.shape[1]), sorted_list, align=\"center\",color=colors )\n",
    "plt.yticks(range(X.shape[1]), labels[sorted_indices], fontsize=12)\n",
    "plt.xlabel(\"Importance\", fontsize=16)\n",
    "plt.ylabel(\"Features\", fontsize=16)\n",
    "plt.tick_params(axis='both', which='major', labelsize=12)\n",
    "plt.tick_params(axis='both', which='minor', labelsize=12)\n",
    "# Save the plot as a PNG file\n",
    "plt.savefig('Importance.png', bbox_inches='tight')\n",
    "plt.show()"
   ]
  },
  {
   "cell_type": "markdown",
   "metadata": {},
   "source": [
    "# Save RF Detector"
   ]
  },
  {
   "cell_type": "code",
   "execution_count": 85,
   "metadata": {},
   "outputs": [],
   "source": [
    "import pickle as pickle\n",
    "filename = 'final_rf_model_dos_time.sav'\n",
    "pickle.dump(rf, open(filename, 'wb'))"
   ]
  },
  {
   "cell_type": "markdown",
   "metadata": {},
   "source": [
    "# Now predicting about separatly processes data"
   ]
  },
  {
   "cell_type": "code",
   "execution_count": 86,
   "metadata": {},
   "outputs": [],
   "source": [
    "current_path = os.getcwd()\n",
    "\n",
    "file1='dataset/Benign_Test_1.csv'\n",
    "benign = pd.read_csv(file1)\n",
    "file2='dataset/RSTFIN_Test.csv'\n",
    "rst = pd.read_csv(file2)\n",
    "file3='dataset/TCPFlood.csv'\n",
    "tcp = pd.read_csv(file3)\n",
    "file4='dataset/SYN_Test.csv'\n",
    "syn = pd.read_csv(file4)\n",
    "file5='dataset/UDPFlood_Test.csv'\n",
    "udp = pd.read_csv(file5)\n",
    "file6='dataset/UDPFrag_Test.csv'\n",
    "udp_frag = pd.read_csv(file6)\n",
    "file7='dataset/HTTPFlood_Test.csv'\n",
    "http = pd.read_csv(file7)\n",
    "file8='dataset/SlowLoris_Test.csv'\n",
    "slow = pd.read_csv(file8)\n",
    "file9='dataset/PUSHACK_Test.csv'\n",
    "psh = pd.read_csv(file9)\n",
    "file10='dataset/ACKFrag_Test.csv'\n",
    "ack = pd.read_csv(file10)\n",
    "\n",
    "benign['attack'] = 0\n",
    "rst['attack'] = 1\n",
    "tcp['attack'] = 1\n",
    "syn['attack'] = 1\n",
    "udp['attack'] = 1\n",
    "ack['attack'] = 1\n",
    "psh['attack'] = 1\n",
    "udp_frag['attack'] = 1\n",
    "http['attack'] = 1\n",
    "slow['attack'] = 1"
   ]
  },
  {
   "cell_type": "markdown",
   "metadata": {},
   "source": [
    "# Test Benign"
   ]
  },
  {
   "cell_type": "code",
   "execution_count": 74,
   "metadata": {},
   "outputs": [
    {
     "name": "stdout",
     "output_type": "stream",
     "text": [
      "Accuracy: 0.8791887125220459\n",
      "Precision:  [1. 0.]\n",
      "Recall:  [0.87918871 0.        ]\n",
      "F1-score:  [0.93571093 0.        ]\n",
      "Support:  [1134    0]\n"
     ]
    },
    {
     "name": "stderr",
     "output_type": "stream",
     "text": [
      "/Users/mahrukh/anaconda3/lib/python3.11/site-packages/sklearn/metrics/_classification.py:1344: UndefinedMetricWarning: Recall and F-score are ill-defined and being set to 0.0 in labels with no true samples. Use `zero_division` parameter to control this behavior.\n",
      "  _warn_prf(average, modifier, msg_start, len(result))\n"
     ]
    }
   ],
   "source": [
    "from sklearn.metrics import classification_report\n",
    "from sklearn.metrics import precision_recall_fscore_support\n",
    "\n",
    "data = pd.concat([benign])\n",
    "data['type'] = data['proto_type'].apply(lambda x: 0 if x > 6 else 1)\n",
    "best_features = data[features]\n",
    "target_features = data[['attack']]\n",
    "prediction = rf.predict(best_features)\n",
    "print(\"Accuracy:\", 1- sum(prediction)/len(prediction))\n",
    "# Calculate precision, recall, F1-score, and support\n",
    "precision, recall, fscore, support = precision_recall_fscore_support(target_features, prediction)\n",
    "# Print the results for each class\n",
    "print(\"Precision: \", precision)\n",
    "print(\"Recall: \", recall)\n",
    "print(\"F1-score: \", fscore)\n",
    "print(\"Support: \", support)"
   ]
  },
  {
   "cell_type": "markdown",
   "metadata": {},
   "source": [
    "# Test SYN Flood"
   ]
  },
  {
   "cell_type": "code",
   "execution_count": 61,
   "metadata": {
    "scrolled": true
   },
   "outputs": [
    {
     "name": "stdout",
     "output_type": "stream",
     "text": [
      "Accuracy:  0.9963428207982191\n",
      "Precision:  [0. 1.]\n",
      "Recall:  [0.         0.99634282]\n",
      "F1-score:  [0.         0.99816806]\n",
      "Support:  [    0 12578]\n"
     ]
    },
    {
     "name": "stderr",
     "output_type": "stream",
     "text": [
      "/Users/mahrukh/anaconda3/lib/python3.11/site-packages/sklearn/metrics/_classification.py:1344: UndefinedMetricWarning: Recall and F-score are ill-defined and being set to 0.0 in labels with no true samples. Use `zero_division` parameter to control this behavior.\n",
      "  _warn_prf(average, modifier, msg_start, len(result))\n"
     ]
    }
   ],
   "source": [
    "data = pd.concat([syn])\n",
    "data['type'] = data['proto_type'].apply(lambda x: 0 if x > 6 else 1)\n",
    "best_features = data[features]\n",
    "target_features = data[['attack']]\n",
    "prediction = rf.predict(best_features)\n",
    "print(\"Accuracy: \", sum(prediction)/len(prediction))\n",
    "# Calculate precision, recall, F1-score, and support\n",
    "precision, recall, fscore, support = precision_recall_fscore_support(target_features, prediction)\n",
    "# Print the results for each class\n",
    "print(\"Precision: \", precision)\n",
    "print(\"Recall: \", recall)\n",
    "print(\"F1-score: \", fscore)\n",
    "print(\"Support: \", support)"
   ]
  },
  {
   "cell_type": "markdown",
   "metadata": {},
   "source": [
    "# TCP PUSH ACK"
   ]
  },
  {
   "cell_type": "code",
   "execution_count": 32,
   "metadata": {},
   "outputs": [
    {
     "name": "stdout",
     "output_type": "stream",
     "text": [
      "Accuracy:  0.9996952961340697\n",
      "Precision:  [0. 1.]\n",
      "Recall:  [0.        0.9996953]\n",
      "F1-score:  [0.         0.99984762]\n",
      "Support:  [    0 26255]\n"
     ]
    },
    {
     "name": "stderr",
     "output_type": "stream",
     "text": [
      "/Users/mahrukh/anaconda3/lib/python3.11/site-packages/sklearn/metrics/_classification.py:1344: UndefinedMetricWarning: Recall and F-score are ill-defined and being set to 0.0 in labels with no true samples. Use `zero_division` parameter to control this behavior.\n",
      "  _warn_prf(average, modifier, msg_start, len(result))\n"
     ]
    }
   ],
   "source": [
    "data = pd.concat([psh])\n",
    "data['type'] = data['proto_type'].apply(lambda x: 0 if x > 6 else 1)\n",
    "best_features = data[features]\n",
    "target_features = data[['attack']]\n",
    "prediction = rf.predict(best_features)\n",
    "print(\"Accuracy: \", sum(prediction)/len(prediction))\n",
    "# Calculate precision, recall, F1-score, and support\n",
    "precision, recall, fscore, support = precision_recall_fscore_support(target_features, prediction)\n",
    "# Print the results for each class\n",
    "print(\"Precision: \", precision)\n",
    "print(\"Recall: \", recall)\n",
    "print(\"F1-score: \", fscore)\n",
    "print(\"Support: \", support)"
   ]
  },
  {
   "cell_type": "markdown",
   "metadata": {},
   "source": [
    "# TCP ACK Fragmentation"
   ]
  },
  {
   "cell_type": "code",
   "execution_count": 33,
   "metadata": {},
   "outputs": [
    {
     "name": "stdout",
     "output_type": "stream",
     "text": [
      "Accuracy:  0.9877085162423178\n",
      "Precision:  [0. 1.]\n",
      "Recall:  [0.         0.98770852]\n",
      "F1-score:  [0.         0.99381625]\n",
      "Support:  [   0 1139]\n"
     ]
    },
    {
     "name": "stderr",
     "output_type": "stream",
     "text": [
      "/Users/mahrukh/anaconda3/lib/python3.11/site-packages/sklearn/metrics/_classification.py:1344: UndefinedMetricWarning: Recall and F-score are ill-defined and being set to 0.0 in labels with no true samples. Use `zero_division` parameter to control this behavior.\n",
      "  _warn_prf(average, modifier, msg_start, len(result))\n"
     ]
    }
   ],
   "source": [
    "data = pd.concat([ack])\n",
    "data['type'] = data['proto_type'].apply(lambda x: 0 if x > 6 else 1)\n",
    "best_features = data[features]\n",
    "target_features = data[['attack']]\n",
    "prediction = rf.predict(best_features)\n",
    "print(\"Accuracy: \", sum(prediction)/len(prediction))\n",
    "# Calculate precision, recall, F1-score, and support\n",
    "precision, recall, fscore, support = precision_recall_fscore_support(target_features, prediction)\n",
    "# Print the results for each class\n",
    "print(\"Precision: \", precision)\n",
    "print(\"Recall: \", recall)\n",
    "print(\"F1-score: \", fscore)\n",
    "print(\"Support: \", support)"
   ]
  },
  {
   "cell_type": "markdown",
   "metadata": {},
   "source": [
    "# Test TCP DoS"
   ]
  },
  {
   "cell_type": "code",
   "execution_count": 34,
   "metadata": {},
   "outputs": [
    {
     "name": "stdout",
     "output_type": "stream",
     "text": [
      "Accuracy: 0.9991228880066476\n",
      "Precision:  [0. 1.]\n",
      "Recall:  [0.         0.99912289]\n",
      "F1-score:  [0.         0.99956125]\n",
      "Support:  [    0 43324]\n"
     ]
    },
    {
     "name": "stderr",
     "output_type": "stream",
     "text": [
      "/Users/mahrukh/anaconda3/lib/python3.11/site-packages/sklearn/metrics/_classification.py:1344: UndefinedMetricWarning: Recall and F-score are ill-defined and being set to 0.0 in labels with no true samples. Use `zero_division` parameter to control this behavior.\n",
      "  _warn_prf(average, modifier, msg_start, len(result))\n"
     ]
    }
   ],
   "source": [
    "data = pd.concat([tcp])\n",
    "data['type'] = data['proto_type'].apply(lambda x: 0 if x > 6 else 1)\n",
    "best_features = data[features]\n",
    "target_features = data[['attack']]\n",
    "prediction = rf.predict(best_features)\n",
    "print(\"Accuracy:\", sum(prediction)/len(prediction))\n",
    "# Calculate precision, recall, F1-score, and support\n",
    "precision, recall, fscore, support = precision_recall_fscore_support(target_features, prediction)\n",
    "# Print the results for each class\n",
    "print(\"Precision: \", precision)\n",
    "print(\"Recall: \", recall)\n",
    "print(\"F1-score: \", fscore)\n",
    "print(\"Support: \", support)"
   ]
  },
  {
   "cell_type": "markdown",
   "metadata": {},
   "source": [
    "# Test RST FIN Flood"
   ]
  },
  {
   "cell_type": "code",
   "execution_count": 35,
   "metadata": {},
   "outputs": [
    {
     "name": "stdout",
     "output_type": "stream",
     "text": [
      "Accuracy:  0.9982426778242678\n",
      "Precision:  [0. 1.]\n",
      "Recall:  [0.         0.99824268]\n",
      "F1-score:  [0.         0.99912057]\n",
      "Support:  [    0 11950]\n"
     ]
    },
    {
     "name": "stderr",
     "output_type": "stream",
     "text": [
      "/Users/mahrukh/anaconda3/lib/python3.11/site-packages/sklearn/metrics/_classification.py:1344: UndefinedMetricWarning: Recall and F-score are ill-defined and being set to 0.0 in labels with no true samples. Use `zero_division` parameter to control this behavior.\n",
      "  _warn_prf(average, modifier, msg_start, len(result))\n"
     ]
    }
   ],
   "source": [
    "data = pd.concat([rst])\n",
    "data['type'] = data['proto_type'].apply(lambda x: 0 if x > 6 else 1)\n",
    "best_features = data[features]\n",
    "target_features = data[['attack']]\n",
    "prediction = rf.predict(best_features)\n",
    "print(\"Accuracy: \", sum(prediction)/len(prediction))\n",
    "# Calculate precision, recall, F1-score, and support\n",
    "precision, recall, fscore, support = precision_recall_fscore_support(target_features, prediction)\n",
    "# Print the results for each class\n",
    "print(\"Precision: \", precision)\n",
    "print(\"Recall: \", recall)\n",
    "print(\"F1-score: \", fscore)\n",
    "print(\"Support: \", support)"
   ]
  },
  {
   "cell_type": "markdown",
   "metadata": {},
   "source": [
    "# Test UDP Flood"
   ]
  },
  {
   "cell_type": "code",
   "execution_count": 36,
   "metadata": {},
   "outputs": [
    {
     "name": "stdout",
     "output_type": "stream",
     "text": [
      "Accuracy: 0.9950118947126084\n",
      "Precision:  [0. 1.]\n",
      "Recall:  [0.         0.99501189]\n",
      "F1-score:  [0.         0.99749971]\n",
      "Support:  [    0 13031]\n"
     ]
    },
    {
     "name": "stderr",
     "output_type": "stream",
     "text": [
      "/Users/mahrukh/anaconda3/lib/python3.11/site-packages/sklearn/metrics/_classification.py:1344: UndefinedMetricWarning: Recall and F-score are ill-defined and being set to 0.0 in labels with no true samples. Use `zero_division` parameter to control this behavior.\n",
      "  _warn_prf(average, modifier, msg_start, len(result))\n"
     ]
    }
   ],
   "source": [
    "data = pd.concat([udp])\n",
    "data['type'] = data['proto_type'].apply(lambda x: 0 if x > 6 else 1)\n",
    "best_features = data[features]\n",
    "target_features = data[['attack']]\n",
    "prediction = rf.predict(best_features)\n",
    "print(\"Accuracy:\",  sum(prediction)/len(prediction))\n",
    "# Calculate precision, recall, F1-score, and support\n",
    "precision, recall, fscore, support = precision_recall_fscore_support(target_features, prediction)\n",
    "# Print the results for each class\n",
    "print(\"Precision: \", precision)\n",
    "print(\"Recall: \", recall)\n",
    "print(\"F1-score: \", fscore)\n",
    "print(\"Support: \", support)"
   ]
  },
  {
   "cell_type": "markdown",
   "metadata": {},
   "source": [
    "# Test HTTP Flood"
   ]
  },
  {
   "cell_type": "code",
   "execution_count": 37,
   "metadata": {},
   "outputs": [
    {
     "name": "stdout",
     "output_type": "stream",
     "text": [
      "Accuracy: 0.855526544821584\n",
      "Precision:  [0. 1.]\n",
      "Recall:  [0.         0.85552654]\n",
      "F1-score:  [0.         0.92213884]\n",
      "Support:  [   0 2298]\n"
     ]
    },
    {
     "name": "stderr",
     "output_type": "stream",
     "text": [
      "/Users/mahrukh/anaconda3/lib/python3.11/site-packages/sklearn/metrics/_classification.py:1344: UndefinedMetricWarning: Recall and F-score are ill-defined and being set to 0.0 in labels with no true samples. Use `zero_division` parameter to control this behavior.\n",
      "  _warn_prf(average, modifier, msg_start, len(result))\n"
     ]
    }
   ],
   "source": [
    "data = pd.concat([http])\n",
    "data['type'] = data['proto_type'].apply(lambda x: 0 if x > 6 else 1)\n",
    "best_features = data[features]\n",
    "target_features = data[['attack']]\n",
    "prediction = rf.predict(best_features)\n",
    "print(\"Accuracy:\",  sum(prediction)/len(prediction))\n",
    "# Calculate precision, recall, F1-score, and support\n",
    "precision, recall, fscore, support = precision_recall_fscore_support(target_features, prediction)\n",
    "# Print the results for each class\n",
    "print(\"Precision: \", precision)\n",
    "print(\"Recall: \", recall)\n",
    "print(\"F1-score: \", fscore)\n",
    "print(\"Support: \", support)"
   ]
  },
  {
   "cell_type": "markdown",
   "metadata": {},
   "source": [
    "# Test UDP Frag"
   ]
  },
  {
   "cell_type": "code",
   "execution_count": 38,
   "metadata": {},
   "outputs": [
    {
     "name": "stdout",
     "output_type": "stream",
     "text": [
      "Accuracy: 0.9980988593155894\n",
      "Precision:  [0. 1.]\n",
      "Recall:  [0.         0.99809886]\n",
      "F1-score:  [0.         0.99904853]\n",
      "Support:  [  0 526]\n"
     ]
    },
    {
     "name": "stderr",
     "output_type": "stream",
     "text": [
      "/Users/mahrukh/anaconda3/lib/python3.11/site-packages/sklearn/metrics/_classification.py:1344: UndefinedMetricWarning: Recall and F-score are ill-defined and being set to 0.0 in labels with no true samples. Use `zero_division` parameter to control this behavior.\n",
      "  _warn_prf(average, modifier, msg_start, len(result))\n"
     ]
    }
   ],
   "source": [
    "data = pd.concat([udp_frag])\n",
    "data['type'] = data['proto_type'].apply(lambda x: 0 if x > 6 else 1)\n",
    "best_features = data[features]\n",
    "target_features = data[['attack']]\n",
    "prediction = rf.predict(best_features)\n",
    "print(\"Accuracy:\",  sum(prediction)/len(prediction))\n",
    "# Calculate precision, recall, F1-score, and support\n",
    "precision, recall, fscore, support = precision_recall_fscore_support(target_features, prediction)\n",
    "# Print the results for each class\n",
    "print(\"Precision: \", precision)\n",
    "print(\"Recall: \", recall)\n",
    "print(\"F1-score: \", fscore)\n",
    "print(\"Support: \", support)"
   ]
  },
  {
   "cell_type": "markdown",
   "metadata": {},
   "source": [
    "# Test Slowloris"
   ]
  },
  {
   "cell_type": "code",
   "execution_count": 39,
   "metadata": {},
   "outputs": [
    {
     "name": "stdout",
     "output_type": "stream",
     "text": [
      "Accuracy: 0.8722410865874364\n",
      "Precision:  [0. 1.]\n",
      "Recall:  [0.         0.87224109]\n",
      "F1-score:  [0.         0.93176151]\n",
      "Support:  [   0 4712]\n"
     ]
    },
    {
     "name": "stderr",
     "output_type": "stream",
     "text": [
      "/Users/mahrukh/anaconda3/lib/python3.11/site-packages/sklearn/metrics/_classification.py:1344: UndefinedMetricWarning: Recall and F-score are ill-defined and being set to 0.0 in labels with no true samples. Use `zero_division` parameter to control this behavior.\n",
      "  _warn_prf(average, modifier, msg_start, len(result))\n"
     ]
    }
   ],
   "source": [
    "data = pd.concat([slow])\n",
    "data['type'] = data['proto_type'].apply(lambda x: 0 if x > 6 else 1)\n",
    "best_features = data[features]\n",
    "target_features = data[['attack']]\n",
    "prediction = rf.predict(best_features)\n",
    "print(\"Accuracy:\",  sum(prediction)/len(prediction))\n",
    "# Calculate precision, recall, F1-score, and support\n",
    "precision, recall, fscore, support = precision_recall_fscore_support(target_features, prediction)\n",
    "# Print the results for each class\n",
    "print(\"Precision: \", precision)\n",
    "print(\"Recall: \", recall)\n",
    "print(\"F1-score: \", fscore)\n",
    "print(\"Support: \", support)"
   ]
  },
  {
   "cell_type": "code",
   "execution_count": null,
   "metadata": {},
   "outputs": [],
   "source": []
  }
 ],
 "metadata": {
  "kernelspec": {
   "display_name": "Python 3 (ipykernel)",
   "language": "python",
   "name": "python3"
  },
  "language_info": {
   "codemirror_mode": {
    "name": "ipython",
    "version": 3
   },
   "file_extension": ".py",
   "mimetype": "text/x-python",
   "name": "python",
   "nbconvert_exporter": "python",
   "pygments_lexer": "ipython3",
   "version": "3.11.8"
  }
 },
 "nbformat": 4,
 "nbformat_minor": 4
}
